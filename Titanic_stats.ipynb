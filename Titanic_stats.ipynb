{
  "nbformat": 4,
  "nbformat_minor": 0,
  "metadata": {
    "colab": {
      "name": "Titanic_stats.ipynb",
      "provenance": [],
      "collapsed_sections": [],
      "authorship_tag": "ABX9TyP4F6QKedoW7G9rDkouxDIh",
      "include_colab_link": true
    },
    "kernelspec": {
      "name": "python3",
      "display_name": "Python 3"
    },
    "language_info": {
      "name": "python"
    },
    "widgets": {
      "application/vnd.jupyter.widget-state+json": {
        "e9d9aad2d95947abb9b5c705addfb315": {
          "model_module": "@jupyter-widgets/controls",
          "model_name": "HBoxModel",
          "model_module_version": "1.5.0",
          "state": {
            "_view_name": "HBoxView",
            "_dom_classes": [],
            "_model_name": "HBoxModel",
            "_view_module": "@jupyter-widgets/controls",
            "_model_module_version": "1.5.0",
            "_view_count": null,
            "_view_module_version": "1.5.0",
            "box_style": "",
            "layout": "IPY_MODEL_33c21feedac84e8cb2c1a9906cecd46f",
            "_model_module": "@jupyter-widgets/controls",
            "children": [
              "IPY_MODEL_14a279476b2e493e9d9c931d8c22e5f8",
              "IPY_MODEL_5892705e46b94b3da4a0821a11c365e1",
              "IPY_MODEL_5064ff29ab994fc8846a802941565699"
            ]
          }
        },
        "33c21feedac84e8cb2c1a9906cecd46f": {
          "model_module": "@jupyter-widgets/base",
          "model_name": "LayoutModel",
          "model_module_version": "1.2.0",
          "state": {
            "_view_name": "LayoutView",
            "grid_template_rows": null,
            "right": null,
            "justify_content": null,
            "_view_module": "@jupyter-widgets/base",
            "overflow": null,
            "_model_module_version": "1.2.0",
            "_view_count": null,
            "flex_flow": null,
            "width": null,
            "min_width": null,
            "border": null,
            "align_items": null,
            "bottom": null,
            "_model_module": "@jupyter-widgets/base",
            "top": null,
            "grid_column": null,
            "overflow_y": null,
            "overflow_x": null,
            "grid_auto_flow": null,
            "grid_area": null,
            "grid_template_columns": null,
            "flex": null,
            "_model_name": "LayoutModel",
            "justify_items": null,
            "grid_row": null,
            "max_height": null,
            "align_content": null,
            "visibility": null,
            "align_self": null,
            "height": null,
            "min_height": null,
            "padding": null,
            "grid_auto_rows": null,
            "grid_gap": null,
            "max_width": null,
            "order": null,
            "_view_module_version": "1.2.0",
            "grid_template_areas": null,
            "object_position": null,
            "object_fit": null,
            "grid_auto_columns": null,
            "margin": null,
            "display": null,
            "left": null
          }
        },
        "14a279476b2e493e9d9c931d8c22e5f8": {
          "model_module": "@jupyter-widgets/controls",
          "model_name": "HTMLModel",
          "model_module_version": "1.5.0",
          "state": {
            "_view_name": "HTMLView",
            "style": "IPY_MODEL_bdaaf2d5e2194cdc9c8c044974020def",
            "_dom_classes": [],
            "description": "",
            "_model_name": "HTMLModel",
            "placeholder": "​",
            "_view_module": "@jupyter-widgets/controls",
            "_model_module_version": "1.5.0",
            "value": "100%",
            "_view_count": null,
            "_view_module_version": "1.5.0",
            "description_tooltip": null,
            "_model_module": "@jupyter-widgets/controls",
            "layout": "IPY_MODEL_795941df5c22412f8b8b745628c6cff8"
          }
        },
        "5892705e46b94b3da4a0821a11c365e1": {
          "model_module": "@jupyter-widgets/controls",
          "model_name": "FloatProgressModel",
          "model_module_version": "1.5.0",
          "state": {
            "_view_name": "ProgressView",
            "style": "IPY_MODEL_6d48fe3bebab4c75a932c5afabd136d9",
            "_dom_classes": [],
            "description": "",
            "_model_name": "FloatProgressModel",
            "bar_style": "success",
            "max": 1000,
            "_view_module": "@jupyter-widgets/controls",
            "_model_module_version": "1.5.0",
            "value": 1000,
            "_view_count": null,
            "_view_module_version": "1.5.0",
            "orientation": "horizontal",
            "min": 0,
            "description_tooltip": null,
            "_model_module": "@jupyter-widgets/controls",
            "layout": "IPY_MODEL_eb8af40b94ed47d2b9db81ae953c5ef3"
          }
        },
        "5064ff29ab994fc8846a802941565699": {
          "model_module": "@jupyter-widgets/controls",
          "model_name": "HTMLModel",
          "model_module_version": "1.5.0",
          "state": {
            "_view_name": "HTMLView",
            "style": "IPY_MODEL_483ffcd75dff4c538676450461cd405d",
            "_dom_classes": [],
            "description": "",
            "_model_name": "HTMLModel",
            "placeholder": "​",
            "_view_module": "@jupyter-widgets/controls",
            "_model_module_version": "1.5.0",
            "value": " 1000/1000 [00:00&lt;00:00, 2981.25it/s]",
            "_view_count": null,
            "_view_module_version": "1.5.0",
            "description_tooltip": null,
            "_model_module": "@jupyter-widgets/controls",
            "layout": "IPY_MODEL_fd326045927040749fd90020c26f38a4"
          }
        },
        "bdaaf2d5e2194cdc9c8c044974020def": {
          "model_module": "@jupyter-widgets/controls",
          "model_name": "DescriptionStyleModel",
          "model_module_version": "1.5.0",
          "state": {
            "_view_name": "StyleView",
            "_model_name": "DescriptionStyleModel",
            "description_width": "",
            "_view_module": "@jupyter-widgets/base",
            "_model_module_version": "1.5.0",
            "_view_count": null,
            "_view_module_version": "1.2.0",
            "_model_module": "@jupyter-widgets/controls"
          }
        },
        "795941df5c22412f8b8b745628c6cff8": {
          "model_module": "@jupyter-widgets/base",
          "model_name": "LayoutModel",
          "model_module_version": "1.2.0",
          "state": {
            "_view_name": "LayoutView",
            "grid_template_rows": null,
            "right": null,
            "justify_content": null,
            "_view_module": "@jupyter-widgets/base",
            "overflow": null,
            "_model_module_version": "1.2.0",
            "_view_count": null,
            "flex_flow": null,
            "width": null,
            "min_width": null,
            "border": null,
            "align_items": null,
            "bottom": null,
            "_model_module": "@jupyter-widgets/base",
            "top": null,
            "grid_column": null,
            "overflow_y": null,
            "overflow_x": null,
            "grid_auto_flow": null,
            "grid_area": null,
            "grid_template_columns": null,
            "flex": null,
            "_model_name": "LayoutModel",
            "justify_items": null,
            "grid_row": null,
            "max_height": null,
            "align_content": null,
            "visibility": null,
            "align_self": null,
            "height": null,
            "min_height": null,
            "padding": null,
            "grid_auto_rows": null,
            "grid_gap": null,
            "max_width": null,
            "order": null,
            "_view_module_version": "1.2.0",
            "grid_template_areas": null,
            "object_position": null,
            "object_fit": null,
            "grid_auto_columns": null,
            "margin": null,
            "display": null,
            "left": null
          }
        },
        "6d48fe3bebab4c75a932c5afabd136d9": {
          "model_module": "@jupyter-widgets/controls",
          "model_name": "ProgressStyleModel",
          "model_module_version": "1.5.0",
          "state": {
            "_view_name": "StyleView",
            "_model_name": "ProgressStyleModel",
            "description_width": "",
            "_view_module": "@jupyter-widgets/base",
            "_model_module_version": "1.5.0",
            "_view_count": null,
            "_view_module_version": "1.2.0",
            "bar_color": null,
            "_model_module": "@jupyter-widgets/controls"
          }
        },
        "eb8af40b94ed47d2b9db81ae953c5ef3": {
          "model_module": "@jupyter-widgets/base",
          "model_name": "LayoutModel",
          "model_module_version": "1.2.0",
          "state": {
            "_view_name": "LayoutView",
            "grid_template_rows": null,
            "right": null,
            "justify_content": null,
            "_view_module": "@jupyter-widgets/base",
            "overflow": null,
            "_model_module_version": "1.2.0",
            "_view_count": null,
            "flex_flow": null,
            "width": null,
            "min_width": null,
            "border": null,
            "align_items": null,
            "bottom": null,
            "_model_module": "@jupyter-widgets/base",
            "top": null,
            "grid_column": null,
            "overflow_y": null,
            "overflow_x": null,
            "grid_auto_flow": null,
            "grid_area": null,
            "grid_template_columns": null,
            "flex": null,
            "_model_name": "LayoutModel",
            "justify_items": null,
            "grid_row": null,
            "max_height": null,
            "align_content": null,
            "visibility": null,
            "align_self": null,
            "height": null,
            "min_height": null,
            "padding": null,
            "grid_auto_rows": null,
            "grid_gap": null,
            "max_width": null,
            "order": null,
            "_view_module_version": "1.2.0",
            "grid_template_areas": null,
            "object_position": null,
            "object_fit": null,
            "grid_auto_columns": null,
            "margin": null,
            "display": null,
            "left": null
          }
        },
        "483ffcd75dff4c538676450461cd405d": {
          "model_module": "@jupyter-widgets/controls",
          "model_name": "DescriptionStyleModel",
          "model_module_version": "1.5.0",
          "state": {
            "_view_name": "StyleView",
            "_model_name": "DescriptionStyleModel",
            "description_width": "",
            "_view_module": "@jupyter-widgets/base",
            "_model_module_version": "1.5.0",
            "_view_count": null,
            "_view_module_version": "1.2.0",
            "_model_module": "@jupyter-widgets/controls"
          }
        },
        "fd326045927040749fd90020c26f38a4": {
          "model_module": "@jupyter-widgets/base",
          "model_name": "LayoutModel",
          "model_module_version": "1.2.0",
          "state": {
            "_view_name": "LayoutView",
            "grid_template_rows": null,
            "right": null,
            "justify_content": null,
            "_view_module": "@jupyter-widgets/base",
            "overflow": null,
            "_model_module_version": "1.2.0",
            "_view_count": null,
            "flex_flow": null,
            "width": null,
            "min_width": null,
            "border": null,
            "align_items": null,
            "bottom": null,
            "_model_module": "@jupyter-widgets/base",
            "top": null,
            "grid_column": null,
            "overflow_y": null,
            "overflow_x": null,
            "grid_auto_flow": null,
            "grid_area": null,
            "grid_template_columns": null,
            "flex": null,
            "_model_name": "LayoutModel",
            "justify_items": null,
            "grid_row": null,
            "max_height": null,
            "align_content": null,
            "visibility": null,
            "align_self": null,
            "height": null,
            "min_height": null,
            "padding": null,
            "grid_auto_rows": null,
            "grid_gap": null,
            "max_width": null,
            "order": null,
            "_view_module_version": "1.2.0",
            "grid_template_areas": null,
            "object_position": null,
            "object_fit": null,
            "grid_auto_columns": null,
            "margin": null,
            "display": null,
            "left": null
          }
        }
      }
    }
  },
  "cells": [
    {
      "cell_type": "markdown",
      "metadata": {
        "id": "view-in-github",
        "colab_type": "text"
      },
      "source": [
        "<a href=\"https://colab.research.google.com/github/DavydovichYana/Stats_hypothesis_check/blob/main/Titanic_stats.ipynb\" target=\"_parent\"><img src=\"https://colab.research.google.com/assets/colab-badge.svg\" alt=\"Open In Colab\"/></a>"
      ]
    },
    {
      "cell_type": "markdown",
      "metadata": {
        "id": "3DHLjalxnReM"
      },
      "source": [
        "# Цель этого ноутбука: \n",
        "\n",
        "1.   выдвинуть несколько гипотез о пассажирах Титаника ❗\n",
        "2.   проверить гипотезы статистическими методами ❗\n",
        "3.   сделать выводы ❗\n",
        "\n",
        "Будем считать, что с данными мы уже знакомы, поэтому сосредоточимся на гипотезах."
      ]
    },
    {
      "cell_type": "code",
      "metadata": {
        "id": "bD1TfPt7mtNu"
      },
      "source": [
        "# Importing the dataset\n",
        "\n",
        "import numpy as np \n",
        "import pandas as pd\n",
        "import matplotlib.pyplot as plt\n",
        "import seaborn as sns\n",
        "from tqdm.auto import tqdm\n",
        "from scipy.stats import norm\n",
        "import warnings\n",
        "warnings.filterwarnings('ignore')\n",
        "%matplotlib inline\n",
        "\n",
        "from scipy.stats import mannwhitneyu\n",
        "from scipy.stats import ttest_ind\n",
        "\n",
        "plt.style.use('ggplot')\n",
        "plt.rc('patch', edgecolor='black')\n",
        "sns.set_context(\"notebook\", font_scale=1.3, rc={\"lines.linewidth\": 1.5})"
      ],
      "execution_count": 69,
      "outputs": []
    },
    {
      "cell_type": "code",
      "metadata": {
        "colab": {
          "base_uri": "https://localhost:8080/",
          "height": 204
        },
        "id": "m9h2pLk6oFSw",
        "outputId": "ce3a0826-c4a4-4567-c2f8-9c9c96f1e5a3"
      },
      "source": [
        "data = pd.read_csv('train.csv')\n",
        "data.head()"
      ],
      "execution_count": 70,
      "outputs": [
        {
          "output_type": "execute_result",
          "data": {
            "text/html": [
              "<div>\n",
              "<style scoped>\n",
              "    .dataframe tbody tr th:only-of-type {\n",
              "        vertical-align: middle;\n",
              "    }\n",
              "\n",
              "    .dataframe tbody tr th {\n",
              "        vertical-align: top;\n",
              "    }\n",
              "\n",
              "    .dataframe thead th {\n",
              "        text-align: right;\n",
              "    }\n",
              "</style>\n",
              "<table border=\"1\" class=\"dataframe\">\n",
              "  <thead>\n",
              "    <tr style=\"text-align: right;\">\n",
              "      <th></th>\n",
              "      <th>PassengerId</th>\n",
              "      <th>Survived</th>\n",
              "      <th>Pclass</th>\n",
              "      <th>Name</th>\n",
              "      <th>Sex</th>\n",
              "      <th>Age</th>\n",
              "      <th>SibSp</th>\n",
              "      <th>Parch</th>\n",
              "      <th>Ticket</th>\n",
              "      <th>Fare</th>\n",
              "      <th>Cabin</th>\n",
              "      <th>Embarked</th>\n",
              "    </tr>\n",
              "  </thead>\n",
              "  <tbody>\n",
              "    <tr>\n",
              "      <th>0</th>\n",
              "      <td>1</td>\n",
              "      <td>0</td>\n",
              "      <td>3</td>\n",
              "      <td>Braund, Mr. Owen Harris</td>\n",
              "      <td>male</td>\n",
              "      <td>22.0</td>\n",
              "      <td>1</td>\n",
              "      <td>0</td>\n",
              "      <td>A/5 21171</td>\n",
              "      <td>7.2500</td>\n",
              "      <td>NaN</td>\n",
              "      <td>S</td>\n",
              "    </tr>\n",
              "    <tr>\n",
              "      <th>1</th>\n",
              "      <td>2</td>\n",
              "      <td>1</td>\n",
              "      <td>1</td>\n",
              "      <td>Cumings, Mrs. John Bradley (Florence Briggs Th...</td>\n",
              "      <td>female</td>\n",
              "      <td>38.0</td>\n",
              "      <td>1</td>\n",
              "      <td>0</td>\n",
              "      <td>PC 17599</td>\n",
              "      <td>71.2833</td>\n",
              "      <td>C85</td>\n",
              "      <td>C</td>\n",
              "    </tr>\n",
              "    <tr>\n",
              "      <th>2</th>\n",
              "      <td>3</td>\n",
              "      <td>1</td>\n",
              "      <td>3</td>\n",
              "      <td>Heikkinen, Miss. Laina</td>\n",
              "      <td>female</td>\n",
              "      <td>26.0</td>\n",
              "      <td>0</td>\n",
              "      <td>0</td>\n",
              "      <td>STON/O2. 3101282</td>\n",
              "      <td>7.9250</td>\n",
              "      <td>NaN</td>\n",
              "      <td>S</td>\n",
              "    </tr>\n",
              "    <tr>\n",
              "      <th>3</th>\n",
              "      <td>4</td>\n",
              "      <td>1</td>\n",
              "      <td>1</td>\n",
              "      <td>Futrelle, Mrs. Jacques Heath (Lily May Peel)</td>\n",
              "      <td>female</td>\n",
              "      <td>35.0</td>\n",
              "      <td>1</td>\n",
              "      <td>0</td>\n",
              "      <td>113803</td>\n",
              "      <td>53.1000</td>\n",
              "      <td>C123</td>\n",
              "      <td>S</td>\n",
              "    </tr>\n",
              "    <tr>\n",
              "      <th>4</th>\n",
              "      <td>5</td>\n",
              "      <td>0</td>\n",
              "      <td>3</td>\n",
              "      <td>Allen, Mr. William Henry</td>\n",
              "      <td>male</td>\n",
              "      <td>35.0</td>\n",
              "      <td>0</td>\n",
              "      <td>0</td>\n",
              "      <td>373450</td>\n",
              "      <td>8.0500</td>\n",
              "      <td>NaN</td>\n",
              "      <td>S</td>\n",
              "    </tr>\n",
              "  </tbody>\n",
              "</table>\n",
              "</div>"
            ],
            "text/plain": [
              "   PassengerId  Survived  Pclass  ...     Fare Cabin  Embarked\n",
              "0            1         0       3  ...   7.2500   NaN         S\n",
              "1            2         1       1  ...  71.2833   C85         C\n",
              "2            3         1       3  ...   7.9250   NaN         S\n",
              "3            4         1       1  ...  53.1000  C123         S\n",
              "4            5         0       3  ...   8.0500   NaN         S\n",
              "\n",
              "[5 rows x 12 columns]"
            ]
          },
          "metadata": {},
          "execution_count": 70
        }
      ]
    },
    {
      "cell_type": "markdown",
      "metadata": {
        "id": "7LGpEUPopgsk"
      },
      "source": [
        "# **1-я гипотеза**\n",
        "Проверим, различается ли статистически значимо цена билетов, которые покупали женщины и мужчины. "
      ]
    },
    {
      "cell_type": "code",
      "metadata": {
        "id": "s22Ioce7oFWC"
      },
      "source": [
        "data_f = data[data.Sex == 'female']\n",
        "data_m = data[data.Sex == 'male']"
      ],
      "execution_count": 71,
      "outputs": []
    },
    {
      "cell_type": "code",
      "metadata": {
        "colab": {
          "base_uri": "https://localhost:8080/"
        },
        "id": "L-FickwKoFaJ",
        "outputId": "64ffa4c0-c0aa-470b-81f5-b73c81dd49d3"
      },
      "source": [
        "print(data_f.shape, data_m.shape)"
      ],
      "execution_count": 72,
      "outputs": [
        {
          "output_type": "stream",
          "name": "stdout",
          "text": [
            "(314, 12) (577, 12)\n"
          ]
        }
      ]
    },
    {
      "cell_type": "code",
      "metadata": {
        "colab": {
          "base_uri": "https://localhost:8080/",
          "height": 363
        },
        "id": "Mkez4d1ooFdC",
        "outputId": "b91208d7-7974-4a4b-986d-7209b77855e3"
      },
      "source": [
        "plt.figure(figsize=(16,5))\n",
        "\n",
        "sns.kdeplot(data_m.Fare)\n",
        "sns.kdeplot(data_f.Fare)\n",
        "\n",
        "plt.legend(['men','women'])"
      ],
      "execution_count": 73,
      "outputs": [
        {
          "output_type": "execute_result",
          "data": {
            "text/plain": [
              "<matplotlib.legend.Legend at 0x7fe9cfcbe150>"
            ]
          },
          "metadata": {},
          "execution_count": 73
        },
        {
          "output_type": "display_data",
          "data": {
            "image/png": "[encoded data removed]",
            "text/plain": [
              "<Figure size 1152x360 with 1 Axes>"
            ]
          },
          "metadata": {}
        }
      ]
    },
    {
      "cell_type": "code",
      "metadata": {
        "colab": {
          "base_uri": "https://localhost:8080/",
          "height": 581
        },
        "id": "tNU50-DmoFgc",
        "outputId": "24c230e6-6d16-4ca1-ca85-19aae7c63950"
      },
      "source": [
        "plt.figure(figsize=(7,9))\n",
        "\n",
        "sns.boxplot('Sex', 'Fare', data=data)"
      ],
      "execution_count": 74,
      "outputs": [
        {
          "output_type": "execute_result",
          "data": {
            "text/plain": [
              "<matplotlib.axes._subplots.AxesSubplot at 0x7fe9cc243a90>"
            ]
          },
          "metadata": {},
          "execution_count": 74
        },
        {
          "output_type": "display_data",
          "data": {
            "image/png": "[encoded data removed]",
            "text/plain": [
              "<Figure size 504x648 with 1 Axes>"
            ]
          },
          "metadata": {}
        }
      ]
    },
    {
      "cell_type": "code",
      "metadata": {
        "colab": {
          "base_uri": "https://localhost:8080/"
        },
        "id": "-SrIeMgZr1sb",
        "outputId": "3abfc2f7-0b8e-4b68-bd48-3e734b6d755c"
      },
      "source": [
        "from scipy.stats import shapiro\n",
        "\n",
        "print(shapiro(data_f.Fare),shapiro(data_m.Fare))"
      ],
      "execution_count": 75,
      "outputs": [
        {
          "output_type": "stream",
          "name": "stdout",
          "text": [
            "(0.6361145973205566, 2.580287846596769e-25) (0.43366360664367676, 5.159334317114255e-39)\n"
          ]
        }
      ]
    },
    {
      "cell_type": "markdown",
      "metadata": {
        "id": "wVlWKbQnsQxX"
      },
      "source": [
        "Итак,\n",
        "\n",
        "\n",
        "1.   женщины платили за билет больше мужчин, исходя из графика ядерной оценки плотности (особое внимание на цену > 50) и боксплотов\n",
        "2.   оба распределения ненормальные. Они имеют длинные хвосты справа (частое явление для данных о деньгах)\n",
        "\n",
        "Так как у нас достаточно большое количество данных, несмотря на ненормальность распределений, мы можем применить t-test. Сравним его результаты с тестом Манна-Уитни\n",
        "\n"
      ]
    },
    {
      "cell_type": "code",
      "metadata": {
        "colab": {
          "base_uri": "https://localhost:8080/"
        },
        "id": "JH-SfnpNm7Hk",
        "outputId": "4db5b10c-4b13-488f-fc2f-7d1452517bd0"
      },
      "source": [
        "mannwhitneyu(data_f.Fare, data_m.Fare)"
      ],
      "execution_count": 76,
      "outputs": [
        {
          "output_type": "execute_result",
          "data": {
            "text/plain": [
              "MannwhitneyuResult(statistic=62175.0, pvalue=4.806163481454681e-15)"
            ]
          },
          "metadata": {},
          "execution_count": 76
        }
      ]
    },
    {
      "cell_type": "code",
      "metadata": {
        "colab": {
          "base_uri": "https://localhost:8080/"
        },
        "id": "PUiJMXtioFjj",
        "outputId": "3589ee0a-6fec-45ab-cb03-2d158fd89000"
      },
      "source": [
        "ttest_ind(data_f.Fare, data_m.Fare)"
      ],
      "execution_count": 77,
      "outputs": [
        {
          "output_type": "execute_result",
          "data": {
            "text/plain": [
              "Ttest_indResult(statistic=5.529140269385719, pvalue=4.2308678700429995e-08)"
            ]
          },
          "metadata": {},
          "execution_count": 77
        }
      ]
    },
    {
      "cell_type": "code",
      "metadata": {
        "id": "RIn09mWCm7DQ"
      },
      "source": [
        "# Функция для бутстрапа взята отсюда: https://www.youtube.com/watch?v=-zps6hm0nX8&t=3007s\n",
        "\n",
        "def get_bootstrap(\n",
        "    data_column_1, # числовые значения первой выборки\n",
        "    data_column_2, # числовые значения второй выборки\n",
        "    boot_it = 1000, # количество бутстрэп-подвыборок\n",
        "    statistic = np.mean, # интересующая нас статистика\n",
        "    bootstrap_conf_level = 0.95 # уровень значимости\n",
        "):\n",
        "    boot_len = max([len(data_column_1), len(data_column_2)])\n",
        "    boot_data = []\n",
        "    for i in tqdm(range(boot_it)): # извлекаем подвыборки\n",
        "        samples_1 = data_column_1.sample(\n",
        "            boot_len, \n",
        "            replace = True # параметр возвращения\n",
        "        ).values\n",
        "        \n",
        "        samples_2 = data_column_2.sample(\n",
        "            boot_len, # чтобы сохранить дисперсию, берем такой же размер выборки\n",
        "            replace = True\n",
        "        ).values\n",
        "        \n",
        "        boot_data.append(statistic(samples_1-samples_2)) \n",
        "    pd_boot_data = pd.DataFrame(boot_data)\n",
        "        \n",
        "    left_quant = (1 - bootstrap_conf_level)/2\n",
        "    right_quant = 1 - (1 - bootstrap_conf_level) / 2\n",
        "    quants = pd_boot_data.quantile([left_quant, right_quant])\n",
        "        \n",
        "    p_1 = norm.cdf(\n",
        "        x = 0, \n",
        "        loc = np.mean(boot_data), \n",
        "        scale = np.std(boot_data)\n",
        "    )\n",
        "    p_2 = norm.cdf(\n",
        "        x = 0, \n",
        "        loc = -np.mean(boot_data), \n",
        "        scale = np.std(boot_data)\n",
        "    )\n",
        "    p_value = min(p_1, p_2) * 2\n",
        "        \n",
        "    # Визуализация\n",
        "    _, _, bars = plt.hist(pd_boot_data[0], bins = 50)\n",
        "    for bar in bars:\n",
        "        if abs(bar.get_x()) <= quants.iloc[0][0] or abs(bar.get_x()) >= quants.iloc[1][0]:\n",
        "            bar.set_facecolor('red')\n",
        "        else: \n",
        "            bar.set_facecolor('grey')\n",
        "            bar.set_edgecolor('black')\n",
        "    \n",
        "    plt.style.use('ggplot')\n",
        "    plt.vlines(quants,ymin=0,ymax=50,linestyle='--')\n",
        "    plt.xlabel('boot_data')\n",
        "    plt.ylabel('frequency')\n",
        "    plt.title(\"Histogram of boot_data\")\n",
        "    plt.show()\n",
        "       \n",
        "    return {\"quants\": quants, \n",
        "            \"p_value\": p_value}"
      ],
      "execution_count": 78,
      "outputs": []
    },
    {
      "cell_type": "code",
      "metadata": {
        "colab": {
          "base_uri": "https://localhost:8080/",
          "height": 394,
          "referenced_widgets": [
            "e9d9aad2d95947abb9b5c705addfb315",
            "33c21feedac84e8cb2c1a9906cecd46f",
            "14a279476b2e493e9d9c931d8c22e5f8",
            "5892705e46b94b3da4a0821a11c365e1",
            "5064ff29ab994fc8846a802941565699",
            "bdaaf2d5e2194cdc9c8c044974020def",
            "795941df5c22412f8b8b745628c6cff8",
            "6d48fe3bebab4c75a932c5afabd136d9",
            "eb8af40b94ed47d2b9db81ae953c5ef3",
            "483ffcd75dff4c538676450461cd405d",
            "fd326045927040749fd90020c26f38a4"
          ]
        },
        "id": "eDeTVlyToEEe",
        "outputId": "88d2c245-56ea-4baa-a66b-99e08d850f7a"
      },
      "source": [
        "get_bootstrap(\n",
        "    data_m.Fare, data_f.Fare,\n",
        "    boot_it = 1000, # количество бутстрэп-подвыборок\n",
        "    statistic = np.mean, # интересующая нас статистика\n",
        "    bootstrap_conf_level = 0.95 # уровень значимости\n",
        ")"
      ],
      "execution_count": 79,
      "outputs": [
        {
          "output_type": "display_data",
          "data": {
            "application/vnd.jupyter.widget-view+json": {
              "model_id": "e9d9aad2d95947abb9b5c705addfb315",
              "version_minor": 0,
              "version_major": 2
            },
            "text/plain": [
              "  0%|          | 0/1000 [00:00<?, ?it/s]"
            ]
          },
          "metadata": {}
        },
        {
          "output_type": "display_data",
          "data": {
            "image/png": "[encoded data removed]",
            "text/plain": [
              "<Figure size 432x288 with 1 Axes>"
            ]
          },
          "metadata": {}
        },
        {
          "output_type": "execute_result",
          "data": {
            "text/plain": [
              "{'p_value': 2.963163318545689e-11, 'quants':                0\n",
              " 0.025 -24.428817\n",
              " 0.975 -13.348729}"
            ]
          },
          "metadata": {},
          "execution_count": 79
        }
      ]
    },
    {
      "cell_type": "markdown",
      "metadata": {
        "id": "CPXflFRF0dVy"
      },
      "source": [
        "Таким образом, цена билетов у женщин статистически значимо больше, чем у мужчин. Т.е. они ехали в более дорогих классах и имели больший шанс спастись не только из-за своего пола, но и из-за класса."
      ]
    },
    {
      "cell_type": "code",
      "metadata": {
        "id": "li8IOUEa54w6"
      },
      "source": [
        "from IPython.core.display import HTML\n",
        "\n",
        "def multi_table(table_list):\n",
        "    return HTML(\n",
        "        f\"<table><tr> {''.join(['<td>' + table._repr_html_() + '</td>' for table in table_list])} </tr></table>\")"
      ],
      "execution_count": 80,
      "outputs": []
    },
    {
      "cell_type": "code",
      "metadata": {
        "colab": {
          "base_uri": "https://localhost:8080/",
          "height": 208
        },
        "id": "INiBm2qL0ctA",
        "outputId": "9fdaa5d2-0ff7-44a6-a937-63724347c373"
      },
      "source": [
        "t1 = data.groupby(['Sex', 'Pclass'], as_index=False).agg({'Fare':'mean'}).style.background_gradient(vmin=0)\n",
        "t2 = data.groupby(['Sex', 'Pclass'], as_index=False).agg({'Fare':'std'}).style.background_gradient(vmin=0)\n",
        "t3 = data.groupby(['Sex', 'Pclass'], as_index=False).agg({'Fare':'median'}).style.background_gradient(vmin=0)\n",
        "t4 = pd.pivot_table(data, 'Fare',['Pclass','Sex'],aggfunc=['count', 'sum', 'mean']).style.background_gradient(vmin=0)\n",
        "t5 = pd.crosstab([data.Sex,data.Pclass],data.Survived.round(3)*100,margins = True).style.background_gradient(vmin=0)\n",
        "\n",
        "multi_table([t1, t2, t3,t4, t5])"
      ],
      "execution_count": 81,
      "outputs": [
        {
          "output_type": "execute_result",
          "data": {
            "text/html": [
              "<table><tr> <td><style  type=\"text/css\" >\n",
              "#T_d77761ba_4dd1_11ec_8a99_0242ac1c0002row0_col1,#T_d77761ba_4dd1_11ec_8a99_0242ac1c0002row3_col1{\n",
              "            background-color:  #b4c4df;\n",
              "            color:  #000000;\n",
              "        }#T_d77761ba_4dd1_11ec_8a99_0242ac1c0002row0_col2,#T_d77761ba_4dd1_11ec_8a99_0242ac1c0002row2_col1,#T_d77761ba_4dd1_11ec_8a99_0242ac1c0002row5_col1{\n",
              "            background-color:  #023858;\n",
              "            color:  #f1f1f1;\n",
              "        }#T_d77761ba_4dd1_11ec_8a99_0242ac1c0002row1_col1,#T_d77761ba_4dd1_11ec_8a99_0242ac1c0002row4_col1{\n",
              "            background-color:  #2685bb;\n",
              "            color:  #000000;\n",
              "        }#T_d77761ba_4dd1_11ec_8a99_0242ac1c0002row1_col2{\n",
              "            background-color:  #dad9ea;\n",
              "            color:  #000000;\n",
              "        }#T_d77761ba_4dd1_11ec_8a99_0242ac1c0002row2_col2{\n",
              "            background-color:  #e7e3f0;\n",
              "            color:  #000000;\n",
              "        }#T_d77761ba_4dd1_11ec_8a99_0242ac1c0002row3_col2{\n",
              "            background-color:  #328dbf;\n",
              "            color:  #000000;\n",
              "        }#T_d77761ba_4dd1_11ec_8a99_0242ac1c0002row4_col2{\n",
              "            background-color:  #dfddec;\n",
              "            color:  #000000;\n",
              "        }#T_d77761ba_4dd1_11ec_8a99_0242ac1c0002row5_col2{\n",
              "            background-color:  #ede8f3;\n",
              "            color:  #000000;\n",
              "        }</style><table id=\"T_d77761ba_4dd1_11ec_8a99_0242ac1c0002\" ><thead>    <tr>        <th class=\"blank level0\" ></th>        <th class=\"col_heading level0 col0\" >Sex</th>        <th class=\"col_heading level0 col1\" >Pclass</th>        <th class=\"col_heading level0 col2\" >Fare</th>    </tr></thead><tbody>\n",
              "                <tr>\n",
              "                        <th id=\"T_d77761ba_4dd1_11ec_8a99_0242ac1c0002level0_row0\" class=\"row_heading level0 row0\" >0</th>\n",
              "                        <td id=\"T_d77761ba_4dd1_11ec_8a99_0242ac1c0002row0_col0\" class=\"data row0 col0\" >female</td>\n",
              "                        <td id=\"T_d77761ba_4dd1_11ec_8a99_0242ac1c0002row0_col1\" class=\"data row0 col1\" >1</td>\n",
              "                        <td id=\"T_d77761ba_4dd1_11ec_8a99_0242ac1c0002row0_col2\" class=\"data row0 col2\" >106.125798</td>\n",
              "            </tr>\n",
              "            <tr>\n",
              "                        <th id=\"T_d77761ba_4dd1_11ec_8a99_0242ac1c0002level0_row1\" class=\"row_heading level0 row1\" >1</th>\n",
              "                        <td id=\"T_d77761ba_4dd1_11ec_8a99_0242ac1c0002row1_col0\" class=\"data row1 col0\" >female</td>\n",
              "                        <td id=\"T_d77761ba_4dd1_11ec_8a99_0242ac1c0002row1_col1\" class=\"data row1 col1\" >2</td>\n",
              "                        <td id=\"T_d77761ba_4dd1_11ec_8a99_0242ac1c0002row1_col2\" class=\"data row1 col2\" >21.970121</td>\n",
              "            </tr>\n",
              "            <tr>\n",
              "                        <th id=\"T_d77761ba_4dd1_11ec_8a99_0242ac1c0002level0_row2\" class=\"row_heading level0 row2\" >2</th>\n",
              "                        <td id=\"T_d77761ba_4dd1_11ec_8a99_0242ac1c0002row2_col0\" class=\"data row2 col0\" >female</td>\n",
              "                        <td id=\"T_d77761ba_4dd1_11ec_8a99_0242ac1c0002row2_col1\" class=\"data row2 col1\" >3</td>\n",
              "                        <td id=\"T_d77761ba_4dd1_11ec_8a99_0242ac1c0002row2_col2\" class=\"data row2 col2\" >16.118810</td>\n",
              "            </tr>\n",
              "            <tr>\n",
              "                        <th id=\"T_d77761ba_4dd1_11ec_8a99_0242ac1c0002level0_row3\" class=\"row_heading level0 row3\" >3</th>\n",
              "                        <td id=\"T_d77761ba_4dd1_11ec_8a99_0242ac1c0002row3_col0\" class=\"data row3 col0\" >male</td>\n",
              "                        <td id=\"T_d77761ba_4dd1_11ec_8a99_0242ac1c0002row3_col1\" class=\"data row3 col1\" >1</td>\n",
              "                        <td id=\"T_d77761ba_4dd1_11ec_8a99_0242ac1c0002row3_col2\" class=\"data row3 col2\" >67.226127</td>\n",
              "            </tr>\n",
              "            <tr>\n",
              "                        <th id=\"T_d77761ba_4dd1_11ec_8a99_0242ac1c0002level0_row4\" class=\"row_heading level0 row4\" >4</th>\n",
              "                        <td id=\"T_d77761ba_4dd1_11ec_8a99_0242ac1c0002row4_col0\" class=\"data row4 col0\" >male</td>\n",
              "                        <td id=\"T_d77761ba_4dd1_11ec_8a99_0242ac1c0002row4_col1\" class=\"data row4 col1\" >2</td>\n",
              "                        <td id=\"T_d77761ba_4dd1_11ec_8a99_0242ac1c0002row4_col2\" class=\"data row4 col2\" >19.741782</td>\n",
              "            </tr>\n",
              "            <tr>\n",
              "                        <th id=\"T_d77761ba_4dd1_11ec_8a99_0242ac1c0002level0_row5\" class=\"row_heading level0 row5\" >5</th>\n",
              "                        <td id=\"T_d77761ba_4dd1_11ec_8a99_0242ac1c0002row5_col0\" class=\"data row5 col0\" >male</td>\n",
              "                        <td id=\"T_d77761ba_4dd1_11ec_8a99_0242ac1c0002row5_col1\" class=\"data row5 col1\" >3</td>\n",
              "                        <td id=\"T_d77761ba_4dd1_11ec_8a99_0242ac1c0002row5_col2\" class=\"data row5 col2\" >12.661633</td>\n",
              "            </tr>\n",
              "    </tbody></table></td><td><style  type=\"text/css\" >\n",
              "#T_d7784918_4dd1_11ec_8a99_0242ac1c0002row0_col1,#T_d7784918_4dd1_11ec_8a99_0242ac1c0002row3_col1{\n",
              "            background-color:  #b4c4df;\n",
              "            color:  #000000;\n",
              "        }#T_d7784918_4dd1_11ec_8a99_0242ac1c0002row0_col2{\n",
              "            background-color:  #034369;\n",
              "            color:  #f1f1f1;\n",
              "        }#T_d7784918_4dd1_11ec_8a99_0242ac1c0002row1_col1,#T_d7784918_4dd1_11ec_8a99_0242ac1c0002row4_col1{\n",
              "            background-color:  #2685bb;\n",
              "            color:  #000000;\n",
              "        }#T_d7784918_4dd1_11ec_8a99_0242ac1c0002row1_col2{\n",
              "            background-color:  #e9e5f1;\n",
              "            color:  #000000;\n",
              "        }#T_d7784918_4dd1_11ec_8a99_0242ac1c0002row2_col1,#T_d7784918_4dd1_11ec_8a99_0242ac1c0002row3_col2,#T_d7784918_4dd1_11ec_8a99_0242ac1c0002row5_col1{\n",
              "            background-color:  #023858;\n",
              "            color:  #f1f1f1;\n",
              "        }#T_d7784918_4dd1_11ec_8a99_0242ac1c0002row2_col2,#T_d7784918_4dd1_11ec_8a99_0242ac1c0002row5_col2{\n",
              "            background-color:  #e7e3f0;\n",
              "            color:  #000000;\n",
              "        }#T_d7784918_4dd1_11ec_8a99_0242ac1c0002row4_col2{\n",
              "            background-color:  #dddbec;\n",
              "            color:  #000000;\n",
              "        }</style><table id=\"T_d7784918_4dd1_11ec_8a99_0242ac1c0002\" ><thead>    <tr>        <th class=\"blank level0\" ></th>        <th class=\"col_heading level0 col0\" >Sex</th>        <th class=\"col_heading level0 col1\" >Pclass</th>        <th class=\"col_heading level0 col2\" >Fare</th>    </tr></thead><tbody>\n",
              "                <tr>\n",
              "                        <th id=\"T_d7784918_4dd1_11ec_8a99_0242ac1c0002level0_row0\" class=\"row_heading level0 row0\" >0</th>\n",
              "                        <td id=\"T_d7784918_4dd1_11ec_8a99_0242ac1c0002row0_col0\" class=\"data row0 col0\" >female</td>\n",
              "                        <td id=\"T_d7784918_4dd1_11ec_8a99_0242ac1c0002row0_col1\" class=\"data row0 col1\" >1</td>\n",
              "                        <td id=\"T_d7784918_4dd1_11ec_8a99_0242ac1c0002row0_col2\" class=\"data row0 col2\" >74.259988</td>\n",
              "            </tr>\n",
              "            <tr>\n",
              "                        <th id=\"T_d7784918_4dd1_11ec_8a99_0242ac1c0002level0_row1\" class=\"row_heading level0 row1\" >1</th>\n",
              "                        <td id=\"T_d7784918_4dd1_11ec_8a99_0242ac1c0002row1_col0\" class=\"data row1 col0\" >female</td>\n",
              "                        <td id=\"T_d7784918_4dd1_11ec_8a99_0242ac1c0002row1_col1\" class=\"data row1 col1\" >2</td>\n",
              "                        <td id=\"T_d7784918_4dd1_11ec_8a99_0242ac1c0002row1_col2\" class=\"data row1 col2\" >10.891796</td>\n",
              "            </tr>\n",
              "            <tr>\n",
              "                        <th id=\"T_d7784918_4dd1_11ec_8a99_0242ac1c0002level0_row2\" class=\"row_heading level0 row2\" >2</th>\n",
              "                        <td id=\"T_d7784918_4dd1_11ec_8a99_0242ac1c0002row2_col0\" class=\"data row2 col0\" >female</td>\n",
              "                        <td id=\"T_d7784918_4dd1_11ec_8a99_0242ac1c0002row2_col1\" class=\"data row2 col1\" >3</td>\n",
              "                        <td id=\"T_d7784918_4dd1_11ec_8a99_0242ac1c0002row2_col2\" class=\"data row2 col2\" >11.690314</td>\n",
              "            </tr>\n",
              "            <tr>\n",
              "                        <th id=\"T_d7784918_4dd1_11ec_8a99_0242ac1c0002level0_row3\" class=\"row_heading level0 row3\" >3</th>\n",
              "                        <td id=\"T_d7784918_4dd1_11ec_8a99_0242ac1c0002row3_col0\" class=\"data row3 col0\" >male</td>\n",
              "                        <td id=\"T_d7784918_4dd1_11ec_8a99_0242ac1c0002row3_col1\" class=\"data row3 col1\" >1</td>\n",
              "                        <td id=\"T_d7784918_4dd1_11ec_8a99_0242ac1c0002row3_col2\" class=\"data row3 col2\" >77.548021</td>\n",
              "            </tr>\n",
              "            <tr>\n",
              "                        <th id=\"T_d7784918_4dd1_11ec_8a99_0242ac1c0002level0_row4\" class=\"row_heading level0 row4\" >4</th>\n",
              "                        <td id=\"T_d7784918_4dd1_11ec_8a99_0242ac1c0002row4_col0\" class=\"data row4 col0\" >male</td>\n",
              "                        <td id=\"T_d7784918_4dd1_11ec_8a99_0242ac1c0002row4_col1\" class=\"data row4 col1\" >2</td>\n",
              "                        <td id=\"T_d7784918_4dd1_11ec_8a99_0242ac1c0002row4_col2\" class=\"data row4 col2\" >14.922235</td>\n",
              "            </tr>\n",
              "            <tr>\n",
              "                        <th id=\"T_d7784918_4dd1_11ec_8a99_0242ac1c0002level0_row5\" class=\"row_heading level0 row5\" >5</th>\n",
              "                        <td id=\"T_d7784918_4dd1_11ec_8a99_0242ac1c0002row5_col0\" class=\"data row5 col0\" >male</td>\n",
              "                        <td id=\"T_d7784918_4dd1_11ec_8a99_0242ac1c0002row5_col1\" class=\"data row5 col1\" >3</td>\n",
              "                        <td id=\"T_d7784918_4dd1_11ec_8a99_0242ac1c0002row5_col2\" class=\"data row5 col2\" >11.681696</td>\n",
              "            </tr>\n",
              "    </tbody></table></td><td><style  type=\"text/css\" >\n",
              "#T_d7791adc_4dd1_11ec_8a99_0242ac1c0002row0_col1,#T_d7791adc_4dd1_11ec_8a99_0242ac1c0002row3_col1{\n",
              "            background-color:  #b4c4df;\n",
              "            color:  #000000;\n",
              "        }#T_d7791adc_4dd1_11ec_8a99_0242ac1c0002row0_col2,#T_d7791adc_4dd1_11ec_8a99_0242ac1c0002row2_col1,#T_d7791adc_4dd1_11ec_8a99_0242ac1c0002row5_col1{\n",
              "            background-color:  #023858;\n",
              "            color:  #f1f1f1;\n",
              "        }#T_d7791adc_4dd1_11ec_8a99_0242ac1c0002row1_col1,#T_d7791adc_4dd1_11ec_8a99_0242ac1c0002row4_col1{\n",
              "            background-color:  #2685bb;\n",
              "            color:  #000000;\n",
              "        }#T_d7791adc_4dd1_11ec_8a99_0242ac1c0002row1_col2{\n",
              "            background-color:  #cacee5;\n",
              "            color:  #000000;\n",
              "        }#T_d7791adc_4dd1_11ec_8a99_0242ac1c0002row2_col2{\n",
              "            background-color:  #e7e3f0;\n",
              "            color:  #000000;\n",
              "        }#T_d7791adc_4dd1_11ec_8a99_0242ac1c0002row3_col2{\n",
              "            background-color:  #75a9cf;\n",
              "            color:  #000000;\n",
              "        }#T_d7791adc_4dd1_11ec_8a99_0242ac1c0002row4_col2{\n",
              "            background-color:  #e5e1ef;\n",
              "            color:  #000000;\n",
              "        }#T_d7791adc_4dd1_11ec_8a99_0242ac1c0002row5_col2{\n",
              "            background-color:  #f1ebf4;\n",
              "            color:  #000000;\n",
              "        }</style><table id=\"T_d7791adc_4dd1_11ec_8a99_0242ac1c0002\" ><thead>    <tr>        <th class=\"blank level0\" ></th>        <th class=\"col_heading level0 col0\" >Sex</th>        <th class=\"col_heading level0 col1\" >Pclass</th>        <th class=\"col_heading level0 col2\" >Fare</th>    </tr></thead><tbody>\n",
              "                <tr>\n",
              "                        <th id=\"T_d7791adc_4dd1_11ec_8a99_0242ac1c0002level0_row0\" class=\"row_heading level0 row0\" >0</th>\n",
              "                        <td id=\"T_d7791adc_4dd1_11ec_8a99_0242ac1c0002row0_col0\" class=\"data row0 col0\" >female</td>\n",
              "                        <td id=\"T_d7791adc_4dd1_11ec_8a99_0242ac1c0002row0_col1\" class=\"data row0 col1\" >1</td>\n",
              "                        <td id=\"T_d7791adc_4dd1_11ec_8a99_0242ac1c0002row0_col2\" class=\"data row0 col2\" >82.664550</td>\n",
              "            </tr>\n",
              "            <tr>\n",
              "                        <th id=\"T_d7791adc_4dd1_11ec_8a99_0242ac1c0002level0_row1\" class=\"row_heading level0 row1\" >1</th>\n",
              "                        <td id=\"T_d7791adc_4dd1_11ec_8a99_0242ac1c0002row1_col0\" class=\"data row1 col0\" >female</td>\n",
              "                        <td id=\"T_d7791adc_4dd1_11ec_8a99_0242ac1c0002row1_col1\" class=\"data row1 col1\" >2</td>\n",
              "                        <td id=\"T_d7791adc_4dd1_11ec_8a99_0242ac1c0002row1_col2\" class=\"data row1 col2\" >22.000000</td>\n",
              "            </tr>\n",
              "            <tr>\n",
              "                        <th id=\"T_d7791adc_4dd1_11ec_8a99_0242ac1c0002level0_row2\" class=\"row_heading level0 row2\" >2</th>\n",
              "                        <td id=\"T_d7791adc_4dd1_11ec_8a99_0242ac1c0002row2_col0\" class=\"data row2 col0\" >female</td>\n",
              "                        <td id=\"T_d7791adc_4dd1_11ec_8a99_0242ac1c0002row2_col1\" class=\"data row2 col1\" >3</td>\n",
              "                        <td id=\"T_d7791adc_4dd1_11ec_8a99_0242ac1c0002row2_col2\" class=\"data row2 col2\" >12.475000</td>\n",
              "            </tr>\n",
              "            <tr>\n",
              "                        <th id=\"T_d7791adc_4dd1_11ec_8a99_0242ac1c0002level0_row3\" class=\"row_heading level0 row3\" >3</th>\n",
              "                        <td id=\"T_d7791adc_4dd1_11ec_8a99_0242ac1c0002row3_col0\" class=\"data row3 col0\" >male</td>\n",
              "                        <td id=\"T_d7791adc_4dd1_11ec_8a99_0242ac1c0002row3_col1\" class=\"data row3 col1\" >1</td>\n",
              "                        <td id=\"T_d7791adc_4dd1_11ec_8a99_0242ac1c0002row3_col2\" class=\"data row3 col2\" >41.262500</td>\n",
              "            </tr>\n",
              "            <tr>\n",
              "                        <th id=\"T_d7791adc_4dd1_11ec_8a99_0242ac1c0002level0_row4\" class=\"row_heading level0 row4\" >4</th>\n",
              "                        <td id=\"T_d7791adc_4dd1_11ec_8a99_0242ac1c0002row4_col0\" class=\"data row4 col0\" >male</td>\n",
              "                        <td id=\"T_d7791adc_4dd1_11ec_8a99_0242ac1c0002row4_col1\" class=\"data row4 col1\" >2</td>\n",
              "                        <td id=\"T_d7791adc_4dd1_11ec_8a99_0242ac1c0002row4_col2\" class=\"data row4 col2\" >13.000000</td>\n",
              "            </tr>\n",
              "            <tr>\n",
              "                        <th id=\"T_d7791adc_4dd1_11ec_8a99_0242ac1c0002level0_row5\" class=\"row_heading level0 row5\" >5</th>\n",
              "                        <td id=\"T_d7791adc_4dd1_11ec_8a99_0242ac1c0002row5_col0\" class=\"data row5 col0\" >male</td>\n",
              "                        <td id=\"T_d7791adc_4dd1_11ec_8a99_0242ac1c0002row5_col1\" class=\"data row5 col1\" >3</td>\n",
              "                        <td id=\"T_d7791adc_4dd1_11ec_8a99_0242ac1c0002row5_col2\" class=\"data row5 col2\" >7.925000</td>\n",
              "            </tr>\n",
              "    </tbody></table></td><td><style  type=\"text/css\" >\n",
              "#T_d77bc64c_4dd1_11ec_8a99_0242ac1c0002row0_col0{\n",
              "            background-color:  #c9cee4;\n",
              "            color:  #000000;\n",
              "        }#T_d77bc64c_4dd1_11ec_8a99_0242ac1c0002row0_col1,#T_d77bc64c_4dd1_11ec_8a99_0242ac1c0002row0_col2,#T_d77bc64c_4dd1_11ec_8a99_0242ac1c0002row5_col0{\n",
              "            background-color:  #023858;\n",
              "            color:  #f1f1f1;\n",
              "        }#T_d77bc64c_4dd1_11ec_8a99_0242ac1c0002row1_col0{\n",
              "            background-color:  #adc1dd;\n",
              "            color:  #000000;\n",
              "        }#T_d77bc64c_4dd1_11ec_8a99_0242ac1c0002row1_col1{\n",
              "            background-color:  #04639b;\n",
              "            color:  #f1f1f1;\n",
              "        }#T_d77bc64c_4dd1_11ec_8a99_0242ac1c0002row1_col2{\n",
              "            background-color:  #328dbf;\n",
              "            color:  #000000;\n",
              "        }#T_d77bc64c_4dd1_11ec_8a99_0242ac1c0002row2_col0{\n",
              "            background-color:  #d7d6e9;\n",
              "            color:  #000000;\n",
              "        }#T_d77bc64c_4dd1_11ec_8a99_0242ac1c0002row2_col1{\n",
              "            background-color:  #e3e0ee;\n",
              "            color:  #000000;\n",
              "        }#T_d77bc64c_4dd1_11ec_8a99_0242ac1c0002row2_col2{\n",
              "            background-color:  #dad9ea;\n",
              "            color:  #000000;\n",
              "        }#T_d77bc64c_4dd1_11ec_8a99_0242ac1c0002row3_col0{\n",
              "            background-color:  #bcc7e1;\n",
              "            color:  #000000;\n",
              "        }#T_d77bc64c_4dd1_11ec_8a99_0242ac1c0002row3_col1{\n",
              "            background-color:  #d9d8ea;\n",
              "            color:  #000000;\n",
              "        }#T_d77bc64c_4dd1_11ec_8a99_0242ac1c0002row3_col2{\n",
              "            background-color:  #dfddec;\n",
              "            color:  #000000;\n",
              "        }#T_d77bc64c_4dd1_11ec_8a99_0242ac1c0002row4_col0{\n",
              "            background-color:  #96b6d7;\n",
              "            color:  #000000;\n",
              "        }#T_d77bc64c_4dd1_11ec_8a99_0242ac1c0002row4_col1{\n",
              "            background-color:  #d4d4e8;\n",
              "            color:  #000000;\n",
              "        }#T_d77bc64c_4dd1_11ec_8a99_0242ac1c0002row4_col2{\n",
              "            background-color:  #e7e3f0;\n",
              "            color:  #000000;\n",
              "        }#T_d77bc64c_4dd1_11ec_8a99_0242ac1c0002row5_col1{\n",
              "            background-color:  #8cb3d5;\n",
              "            color:  #000000;\n",
              "        }#T_d77bc64c_4dd1_11ec_8a99_0242ac1c0002row5_col2{\n",
              "            background-color:  #ede8f3;\n",
              "            color:  #000000;\n",
              "        }</style><table id=\"T_d77bc64c_4dd1_11ec_8a99_0242ac1c0002\" ><thead>    <tr>        <th class=\"blank\" ></th>        <th class=\"blank level0\" ></th>        <th class=\"col_heading level0 col0\" >count</th>        <th class=\"col_heading level0 col1\" >sum</th>        <th class=\"col_heading level0 col2\" >mean</th>    </tr>    <tr>        <th class=\"blank\" ></th>        <th class=\"blank level1\" ></th>        <th class=\"col_heading level1 col0\" >Fare</th>        <th class=\"col_heading level1 col1\" >Fare</th>        <th class=\"col_heading level1 col2\" >Fare</th>    </tr>    <tr>        <th class=\"index_name level0\" >Pclass</th>        <th class=\"index_name level1\" >Sex</th>        <th class=\"blank\" ></th>        <th class=\"blank\" ></th>        <th class=\"blank\" ></th>    </tr></thead><tbody>\n",
              "                <tr>\n",
              "                        <th id=\"T_d77bc64c_4dd1_11ec_8a99_0242ac1c0002level0_row0\" class=\"row_heading level0 row0\" rowspan=2>1</th>\n",
              "                        <th id=\"T_d77bc64c_4dd1_11ec_8a99_0242ac1c0002level1_row0\" class=\"row_heading level1 row0\" >female</th>\n",
              "                        <td id=\"T_d77bc64c_4dd1_11ec_8a99_0242ac1c0002row0_col0\" class=\"data row0 col0\" >94</td>\n",
              "                        <td id=\"T_d77bc64c_4dd1_11ec_8a99_0242ac1c0002row0_col1\" class=\"data row0 col1\" >9975.825000</td>\n",
              "                        <td id=\"T_d77bc64c_4dd1_11ec_8a99_0242ac1c0002row0_col2\" class=\"data row0 col2\" >106.125798</td>\n",
              "            </tr>\n",
              "            <tr>\n",
              "                                <th id=\"T_d77bc64c_4dd1_11ec_8a99_0242ac1c0002level1_row1\" class=\"row_heading level1 row1\" >male</th>\n",
              "                        <td id=\"T_d77bc64c_4dd1_11ec_8a99_0242ac1c0002row1_col0\" class=\"data row1 col0\" >122</td>\n",
              "                        <td id=\"T_d77bc64c_4dd1_11ec_8a99_0242ac1c0002row1_col1\" class=\"data row1 col1\" >8201.587500</td>\n",
              "                        <td id=\"T_d77bc64c_4dd1_11ec_8a99_0242ac1c0002row1_col2\" class=\"data row1 col2\" >67.226127</td>\n",
              "            </tr>\n",
              "            <tr>\n",
              "                        <th id=\"T_d77bc64c_4dd1_11ec_8a99_0242ac1c0002level0_row2\" class=\"row_heading level0 row2\" rowspan=2>2</th>\n",
              "                        <th id=\"T_d77bc64c_4dd1_11ec_8a99_0242ac1c0002level1_row2\" class=\"row_heading level1 row2\" >female</th>\n",
              "                        <td id=\"T_d77bc64c_4dd1_11ec_8a99_0242ac1c0002row2_col0\" class=\"data row2 col0\" >76</td>\n",
              "                        <td id=\"T_d77bc64c_4dd1_11ec_8a99_0242ac1c0002row2_col1\" class=\"data row2 col1\" >1669.729200</td>\n",
              "                        <td id=\"T_d77bc64c_4dd1_11ec_8a99_0242ac1c0002row2_col2\" class=\"data row2 col2\" >21.970121</td>\n",
              "            </tr>\n",
              "            <tr>\n",
              "                                <th id=\"T_d77bc64c_4dd1_11ec_8a99_0242ac1c0002level1_row3\" class=\"row_heading level1 row3\" >male</th>\n",
              "                        <td id=\"T_d77bc64c_4dd1_11ec_8a99_0242ac1c0002row3_col0\" class=\"data row3 col0\" >108</td>\n",
              "                        <td id=\"T_d77bc64c_4dd1_11ec_8a99_0242ac1c0002row3_col1\" class=\"data row3 col1\" >2132.112500</td>\n",
              "                        <td id=\"T_d77bc64c_4dd1_11ec_8a99_0242ac1c0002row3_col2\" class=\"data row3 col2\" >19.741782</td>\n",
              "            </tr>\n",
              "            <tr>\n",
              "                        <th id=\"T_d77bc64c_4dd1_11ec_8a99_0242ac1c0002level0_row4\" class=\"row_heading level0 row4\" rowspan=2>3</th>\n",
              "                        <th id=\"T_d77bc64c_4dd1_11ec_8a99_0242ac1c0002level1_row4\" class=\"row_heading level1 row4\" >female</th>\n",
              "                        <td id=\"T_d77bc64c_4dd1_11ec_8a99_0242ac1c0002row4_col0\" class=\"data row4 col0\" >144</td>\n",
              "                        <td id=\"T_d77bc64c_4dd1_11ec_8a99_0242ac1c0002row4_col1\" class=\"data row4 col1\" >2321.108600</td>\n",
              "                        <td id=\"T_d77bc64c_4dd1_11ec_8a99_0242ac1c0002row4_col2\" class=\"data row4 col2\" >16.118810</td>\n",
              "            </tr>\n",
              "            <tr>\n",
              "                                <th id=\"T_d77bc64c_4dd1_11ec_8a99_0242ac1c0002level1_row5\" class=\"row_heading level1 row5\" >male</th>\n",
              "                        <td id=\"T_d77bc64c_4dd1_11ec_8a99_0242ac1c0002row5_col0\" class=\"data row5 col0\" >347</td>\n",
              "                        <td id=\"T_d77bc64c_4dd1_11ec_8a99_0242ac1c0002row5_col1\" class=\"data row5 col1\" >4393.586500</td>\n",
              "                        <td id=\"T_d77bc64c_4dd1_11ec_8a99_0242ac1c0002row5_col2\" class=\"data row5 col2\" >12.661633</td>\n",
              "            </tr>\n",
              "    </tbody></table></td><td><style  type=\"text/css\" >\n",
              "#T_d77d3568_4dd1_11ec_8a99_0242ac1c0002row0_col0{\n",
              "            background-color:  #fef6fb;\n",
              "            color:  #000000;\n",
              "        }#T_d77d3568_4dd1_11ec_8a99_0242ac1c0002row0_col1{\n",
              "            background-color:  #cacee5;\n",
              "            color:  #000000;\n",
              "        }#T_d77d3568_4dd1_11ec_8a99_0242ac1c0002row0_col2{\n",
              "            background-color:  #efe9f3;\n",
              "            color:  #000000;\n",
              "        }#T_d77d3568_4dd1_11ec_8a99_0242ac1c0002row1_col0{\n",
              "            background-color:  #fef6fa;\n",
              "            color:  #000000;\n",
              "        }#T_d77d3568_4dd1_11ec_8a99_0242ac1c0002row1_col1{\n",
              "            background-color:  #dad9ea;\n",
              "            color:  #000000;\n",
              "        }#T_d77d3568_4dd1_11ec_8a99_0242ac1c0002row1_col2{\n",
              "            background-color:  #f2ecf5;\n",
              "            color:  #000000;\n",
              "        }#T_d77d3568_4dd1_11ec_8a99_0242ac1c0002row2_col0,#T_d77d3568_4dd1_11ec_8a99_0242ac1c0002row3_col1{\n",
              "            background-color:  #ebe6f2;\n",
              "            color:  #000000;\n",
              "        }#T_d77d3568_4dd1_11ec_8a99_0242ac1c0002row2_col1{\n",
              "            background-color:  #d9d8ea;\n",
              "            color:  #000000;\n",
              "        }#T_d77d3568_4dd1_11ec_8a99_0242ac1c0002row2_col2{\n",
              "            background-color:  #e4e1ef;\n",
              "            color:  #000000;\n",
              "        }#T_d77d3568_4dd1_11ec_8a99_0242ac1c0002row3_col0,#T_d77d3568_4dd1_11ec_8a99_0242ac1c0002row3_col2,#T_d77d3568_4dd1_11ec_8a99_0242ac1c0002row5_col1{\n",
              "            background-color:  #e9e5f1;\n",
              "            color:  #000000;\n",
              "        }#T_d77d3568_4dd1_11ec_8a99_0242ac1c0002row4_col0{\n",
              "            background-color:  #e3e0ee;\n",
              "            color:  #000000;\n",
              "        }#T_d77d3568_4dd1_11ec_8a99_0242ac1c0002row4_col1{\n",
              "            background-color:  #f8f1f8;\n",
              "            color:  #000000;\n",
              "        }#T_d77d3568_4dd1_11ec_8a99_0242ac1c0002row4_col2{\n",
              "            background-color:  #ede7f2;\n",
              "            color:  #000000;\n",
              "        }#T_d77d3568_4dd1_11ec_8a99_0242ac1c0002row5_col0{\n",
              "            background-color:  #5ea0ca;\n",
              "            color:  #000000;\n",
              "        }#T_d77d3568_4dd1_11ec_8a99_0242ac1c0002row5_col2{\n",
              "            background-color:  #a1bbda;\n",
              "            color:  #000000;\n",
              "        }#T_d77d3568_4dd1_11ec_8a99_0242ac1c0002row6_col0,#T_d77d3568_4dd1_11ec_8a99_0242ac1c0002row6_col1,#T_d77d3568_4dd1_11ec_8a99_0242ac1c0002row6_col2{\n",
              "            background-color:  #023858;\n",
              "            color:  #f1f1f1;\n",
              "        }</style><table id=\"T_d77d3568_4dd1_11ec_8a99_0242ac1c0002\" ><thead>    <tr>        <th class=\"blank\" ></th>        <th class=\"index_name level0\" >Survived</th>        <th class=\"col_heading level0 col0\" >0</th>        <th class=\"col_heading level0 col1\" >100</th>        <th class=\"col_heading level0 col2\" >All</th>    </tr>    <tr>        <th class=\"index_name level0\" >Sex</th>        <th class=\"index_name level1\" >Pclass</th>        <th class=\"blank\" ></th>        <th class=\"blank\" ></th>        <th class=\"blank\" ></th>    </tr></thead><tbody>\n",
              "                <tr>\n",
              "                        <th id=\"T_d77d3568_4dd1_11ec_8a99_0242ac1c0002level0_row0\" class=\"row_heading level0 row0\" rowspan=3>female</th>\n",
              "                        <th id=\"T_d77d3568_4dd1_11ec_8a99_0242ac1c0002level1_row0\" class=\"row_heading level1 row0\" >1</th>\n",
              "                        <td id=\"T_d77d3568_4dd1_11ec_8a99_0242ac1c0002row0_col0\" class=\"data row0 col0\" >3</td>\n",
              "                        <td id=\"T_d77d3568_4dd1_11ec_8a99_0242ac1c0002row0_col1\" class=\"data row0 col1\" >91</td>\n",
              "                        <td id=\"T_d77d3568_4dd1_11ec_8a99_0242ac1c0002row0_col2\" class=\"data row0 col2\" >94</td>\n",
              "            </tr>\n",
              "            <tr>\n",
              "                                <th id=\"T_d77d3568_4dd1_11ec_8a99_0242ac1c0002level1_row1\" class=\"row_heading level1 row1\" >2</th>\n",
              "                        <td id=\"T_d77d3568_4dd1_11ec_8a99_0242ac1c0002row1_col0\" class=\"data row1 col0\" >6</td>\n",
              "                        <td id=\"T_d77d3568_4dd1_11ec_8a99_0242ac1c0002row1_col1\" class=\"data row1 col1\" >70</td>\n",
              "                        <td id=\"T_d77d3568_4dd1_11ec_8a99_0242ac1c0002row1_col2\" class=\"data row1 col2\" >76</td>\n",
              "            </tr>\n",
              "            <tr>\n",
              "                                <th id=\"T_d77d3568_4dd1_11ec_8a99_0242ac1c0002level1_row2\" class=\"row_heading level1 row2\" >3</th>\n",
              "                        <td id=\"T_d77d3568_4dd1_11ec_8a99_0242ac1c0002row2_col0\" class=\"data row2 col0\" >72</td>\n",
              "                        <td id=\"T_d77d3568_4dd1_11ec_8a99_0242ac1c0002row2_col1\" class=\"data row2 col1\" >72</td>\n",
              "                        <td id=\"T_d77d3568_4dd1_11ec_8a99_0242ac1c0002row2_col2\" class=\"data row2 col2\" >144</td>\n",
              "            </tr>\n",
              "            <tr>\n",
              "                        <th id=\"T_d77d3568_4dd1_11ec_8a99_0242ac1c0002level0_row3\" class=\"row_heading level0 row3\" rowspan=3>male</th>\n",
              "                        <th id=\"T_d77d3568_4dd1_11ec_8a99_0242ac1c0002level1_row3\" class=\"row_heading level1 row3\" >1</th>\n",
              "                        <td id=\"T_d77d3568_4dd1_11ec_8a99_0242ac1c0002row3_col0\" class=\"data row3 col0\" >77</td>\n",
              "                        <td id=\"T_d77d3568_4dd1_11ec_8a99_0242ac1c0002row3_col1\" class=\"data row3 col1\" >45</td>\n",
              "                        <td id=\"T_d77d3568_4dd1_11ec_8a99_0242ac1c0002row3_col2\" class=\"data row3 col2\" >122</td>\n",
              "            </tr>\n",
              "            <tr>\n",
              "                                <th id=\"T_d77d3568_4dd1_11ec_8a99_0242ac1c0002level1_row4\" class=\"row_heading level1 row4\" >2</th>\n",
              "                        <td id=\"T_d77d3568_4dd1_11ec_8a99_0242ac1c0002row4_col0\" class=\"data row4 col0\" >91</td>\n",
              "                        <td id=\"T_d77d3568_4dd1_11ec_8a99_0242ac1c0002row4_col1\" class=\"data row4 col1\" >17</td>\n",
              "                        <td id=\"T_d77d3568_4dd1_11ec_8a99_0242ac1c0002row4_col2\" class=\"data row4 col2\" >108</td>\n",
              "            </tr>\n",
              "            <tr>\n",
              "                                <th id=\"T_d77d3568_4dd1_11ec_8a99_0242ac1c0002level1_row5\" class=\"row_heading level1 row5\" >3</th>\n",
              "                        <td id=\"T_d77d3568_4dd1_11ec_8a99_0242ac1c0002row5_col0\" class=\"data row5 col0\" >300</td>\n",
              "                        <td id=\"T_d77d3568_4dd1_11ec_8a99_0242ac1c0002row5_col1\" class=\"data row5 col1\" >47</td>\n",
              "                        <td id=\"T_d77d3568_4dd1_11ec_8a99_0242ac1c0002row5_col2\" class=\"data row5 col2\" >347</td>\n",
              "            </tr>\n",
              "            <tr>\n",
              "                        <th id=\"T_d77d3568_4dd1_11ec_8a99_0242ac1c0002level0_row6\" class=\"row_heading level0 row6\" >All</th>\n",
              "                        <th id=\"T_d77d3568_4dd1_11ec_8a99_0242ac1c0002level1_row6\" class=\"row_heading level1 row6\" ></th>\n",
              "                        <td id=\"T_d77d3568_4dd1_11ec_8a99_0242ac1c0002row6_col0\" class=\"data row6 col0\" >549</td>\n",
              "                        <td id=\"T_d77d3568_4dd1_11ec_8a99_0242ac1c0002row6_col1\" class=\"data row6 col1\" >342</td>\n",
              "                        <td id=\"T_d77d3568_4dd1_11ec_8a99_0242ac1c0002row6_col2\" class=\"data row6 col2\" >891</td>\n",
              "            </tr>\n",
              "    </tbody></table></td> </tr></table>"
            ],
            "text/plain": [
              "<IPython.core.display.HTML object>"
            ]
          },
          "metadata": {},
          "execution_count": 81
        }
      ]
    },
    {
      "cell_type": "markdown",
      "metadata": {
        "id": "1VE16Ro96lno"
      },
      "source": [
        "# 2-я гипотеза\n",
        "\n",
        "Более молодые люди покупали более дешевые билеты."
      ]
    },
    {
      "cell_type": "code",
      "metadata": {
        "id": "IJ5WeYxloEMP"
      },
      "source": [
        "data_age = data[data.Age.notna()]"
      ],
      "execution_count": 82,
      "outputs": []
    },
    {
      "cell_type": "code",
      "metadata": {
        "colab": {
          "base_uri": "https://localhost:8080/",
          "height": 387
        },
        "id": "uKFK7vSToEPc",
        "outputId": "644b114b-2f6a-49fd-9214-2e924766bd3f"
      },
      "source": [
        "sns.displot(data_age.Age)"
      ],
      "execution_count": 83,
      "outputs": [
        {
          "output_type": "execute_result",
          "data": {
            "text/plain": [
              "<seaborn.axisgrid.FacetGrid at 0x7fe9cc065bd0>"
            ]
          },
          "metadata": {},
          "execution_count": 83
        },
        {
          "output_type": "display_data",
          "data": {
            "image/png": "[encoded data removed]",
            "text/plain": [
              "<Figure size 360x360 with 1 Axes>"
            ]
          },
          "metadata": {}
        }
      ]
    },
    {
      "cell_type": "code",
      "metadata": {
        "colab": {
          "base_uri": "https://localhost:8080/",
          "height": 470
        },
        "id": "FnZE9TsYLvCU",
        "outputId": "bac317bd-a183-4381-b6ba-b417ade49ab6"
      },
      "source": [
        "plt.figure(figsize = (7,7))\n",
        "plt.grid(alpha = 0.3)\n",
        "sns.histplot(data_age,x = 'Age',multiple='dodge',hue = 'Pclass')"
      ],
      "execution_count": 84,
      "outputs": [
        {
          "output_type": "execute_result",
          "data": {
            "text/plain": [
              "<matplotlib.axes._subplots.AxesSubplot at 0x7fe9cc065190>"
            ]
          },
          "metadata": {},
          "execution_count": 84
        },
        {
          "output_type": "display_data",
          "data": {
            "image/png": "[encoded data removed]",
            "text/plain": [
              "<Figure size 504x504 with 1 Axes>"
            ]
          },
          "metadata": {}
        }
      ]
    },
    {
      "cell_type": "code",
      "metadata": {
        "colab": {
          "base_uri": "https://localhost:8080/"
        },
        "id": "JCkjlZBboESe",
        "outputId": "1deac9ca-ede4-4e6e-b29f-67edcfe9555c"
      },
      "source": [
        "data_age.Age.describe()"
      ],
      "execution_count": 85,
      "outputs": [
        {
          "output_type": "execute_result",
          "data": {
            "text/plain": [
              "count    714.000000\n",
              "mean      29.699118\n",
              "std       14.526497\n",
              "min        0.420000\n",
              "25%       20.125000\n",
              "50%       28.000000\n",
              "75%       38.000000\n",
              "max       80.000000\n",
              "Name: Age, dtype: float64"
            ]
          },
          "metadata": {},
          "execution_count": 85
        }
      ]
    },
    {
      "cell_type": "code",
      "metadata": {
        "colab": {
          "base_uri": "https://localhost:8080/"
        },
        "id": "jIK7RFbfoEUp",
        "outputId": "9daab8e1-d8e9-4f7c-bc2d-97eca13a98a5"
      },
      "source": [
        "from scipy.stats import pearsonr\n",
        "\n",
        "cor_age_fare = pearsonr(data_age.Age, data_age.Fare)\n",
        "cor_age_fare"
      ],
      "execution_count": 86,
      "outputs": [
        {
          "output_type": "execute_result",
          "data": {
            "text/plain": [
              "(0.0960666917690389, 0.010216277504442105)"
            ]
          },
          "metadata": {},
          "execution_count": 86
        }
      ]
    },
    {
      "cell_type": "markdown",
      "metadata": {
        "id": "8vHX_Z0o9Vkp"
      },
      "source": [
        "Возраст и цена билета не коррелируют между собой."
      ]
    },
    {
      "cell_type": "code",
      "metadata": {
        "id": "3Oqi6Dm8oEXo"
      },
      "source": [
        "data_age['CategoricalAge'] = pd.qcut(data_age['Age'], 5, precision=0)"
      ],
      "execution_count": 87,
      "outputs": []
    },
    {
      "cell_type": "code",
      "metadata": {
        "colab": {
          "base_uri": "https://localhost:8080/",
          "height": 204
        },
        "id": "S-NwfLjfoEbV",
        "outputId": "55c7e1ab-d3ff-4456-ad8e-ea8f1eccdca2"
      },
      "source": [
        "data_age.groupby('CategoricalAge', as_index=False).Fare.count()"
      ],
      "execution_count": 88,
      "outputs": [
        {
          "output_type": "execute_result",
          "data": {
            "text/html": [
              "<div>\n",
              "<style scoped>\n",
              "    .dataframe tbody tr th:only-of-type {\n",
              "        vertical-align: middle;\n",
              "    }\n",
              "\n",
              "    .dataframe tbody tr th {\n",
              "        vertical-align: top;\n",
              "    }\n",
              "\n",
              "    .dataframe thead th {\n",
              "        text-align: right;\n",
              "    }\n",
              "</style>\n",
              "<table border=\"1\" class=\"dataframe\">\n",
              "  <thead>\n",
              "    <tr style=\"text-align: right;\">\n",
              "      <th></th>\n",
              "      <th>CategoricalAge</th>\n",
              "      <th>Fare</th>\n",
              "    </tr>\n",
              "  </thead>\n",
              "  <tbody>\n",
              "    <tr>\n",
              "      <th>0</th>\n",
              "      <td>(-1.0, 19.0]</td>\n",
              "      <td>164</td>\n",
              "    </tr>\n",
              "    <tr>\n",
              "      <th>1</th>\n",
              "      <td>(19.0, 25.0]</td>\n",
              "      <td>137</td>\n",
              "    </tr>\n",
              "    <tr>\n",
              "      <th>2</th>\n",
              "      <td>(25.0, 32.0]</td>\n",
              "      <td>127</td>\n",
              "    </tr>\n",
              "    <tr>\n",
              "      <th>3</th>\n",
              "      <td>(32.0, 41.0]</td>\n",
              "      <td>144</td>\n",
              "    </tr>\n",
              "    <tr>\n",
              "      <th>4</th>\n",
              "      <td>(41.0, 80.0]</td>\n",
              "      <td>142</td>\n",
              "    </tr>\n",
              "  </tbody>\n",
              "</table>\n",
              "</div>"
            ],
            "text/plain": [
              "  CategoricalAge  Fare\n",
              "0   (-1.0, 19.0]   164\n",
              "1   (19.0, 25.0]   137\n",
              "2   (25.0, 32.0]   127\n",
              "3   (32.0, 41.0]   144\n",
              "4   (41.0, 80.0]   142"
            ]
          },
          "metadata": {},
          "execution_count": 88
        }
      ]
    },
    {
      "cell_type": "code",
      "metadata": {
        "colab": {
          "base_uri": "https://localhost:8080/",
          "height": 266
        },
        "id": "FvqURAo2oEeZ",
        "outputId": "d9249a4d-a6f0-4727-cd2f-6c9179a8b572"
      },
      "source": [
        "pd.pivot_table(data_age, 'Fare','CategoricalAge',aggfunc=['count', 'median', 'mean']).style.background_gradient(vmin=0)"
      ],
      "execution_count": 89,
      "outputs": [
        {
          "output_type": "execute_result",
          "data": {
            "text/html": [
              "<style  type=\"text/css\" >\n",
              "#T_d8082bdc_4dd1_11ec_8a99_0242ac1c0002row0_col0,#T_d8082bdc_4dd1_11ec_8a99_0242ac1c0002row3_col2,#T_d8082bdc_4dd1_11ec_8a99_0242ac1c0002row4_col1{\n",
              "            background-color:  #023858;\n",
              "            color:  #f1f1f1;\n",
              "        }#T_d8082bdc_4dd1_11ec_8a99_0242ac1c0002row0_col1{\n",
              "            background-color:  #0f76b3;\n",
              "            color:  #f1f1f1;\n",
              "        }#T_d8082bdc_4dd1_11ec_8a99_0242ac1c0002row0_col2{\n",
              "            background-color:  #0872b1;\n",
              "            color:  #f1f1f1;\n",
              "        }#T_d8082bdc_4dd1_11ec_8a99_0242ac1c0002row1_col0{\n",
              "            background-color:  #046198;\n",
              "            color:  #f1f1f1;\n",
              "        }#T_d8082bdc_4dd1_11ec_8a99_0242ac1c0002row1_col1{\n",
              "            background-color:  #b0c2de;\n",
              "            color:  #000000;\n",
              "        }#T_d8082bdc_4dd1_11ec_8a99_0242ac1c0002row1_col2{\n",
              "            background-color:  #2081b9;\n",
              "            color:  #000000;\n",
              "        }#T_d8082bdc_4dd1_11ec_8a99_0242ac1c0002row2_col0{\n",
              "            background-color:  #056ba9;\n",
              "            color:  #f1f1f1;\n",
              "        }#T_d8082bdc_4dd1_11ec_8a99_0242ac1c0002row2_col1{\n",
              "            background-color:  #78abd0;\n",
              "            color:  #000000;\n",
              "        }#T_d8082bdc_4dd1_11ec_8a99_0242ac1c0002row2_col2{\n",
              "            background-color:  #4496c3;\n",
              "            color:  #000000;\n",
              "        }#T_d8082bdc_4dd1_11ec_8a99_0242ac1c0002row3_col0{\n",
              "            background-color:  #04598c;\n",
              "            color:  #f1f1f1;\n",
              "        }#T_d8082bdc_4dd1_11ec_8a99_0242ac1c0002row3_col1{\n",
              "            background-color:  #0570b0;\n",
              "            color:  #f1f1f1;\n",
              "        }#T_d8082bdc_4dd1_11ec_8a99_0242ac1c0002row4_col0{\n",
              "            background-color:  #045b8f;\n",
              "            color:  #f1f1f1;\n",
              "        }#T_d8082bdc_4dd1_11ec_8a99_0242ac1c0002row4_col2{\n",
              "            background-color:  #02395a;\n",
              "            color:  #f1f1f1;\n",
              "        }</style><table id=\"T_d8082bdc_4dd1_11ec_8a99_0242ac1c0002\" class=\"dataframe\"><thead>    <tr>        <th class=\"blank level0\" ></th>        <th class=\"col_heading level0 col0\" >count</th>        <th class=\"col_heading level0 col1\" >median</th>        <th class=\"col_heading level0 col2\" >mean</th>    </tr>    <tr>        <th class=\"blank level1\" ></th>        <th class=\"col_heading level1 col0\" >Fare</th>        <th class=\"col_heading level1 col1\" >Fare</th>        <th class=\"col_heading level1 col2\" >Fare</th>    </tr>    <tr>        <th class=\"index_name level0\" >CategoricalAge</th>        <th class=\"blank\" ></th>        <th class=\"blank\" ></th>        <th class=\"blank\" ></th>    </tr></thead><tbody>\n",
              "                <tr>\n",
              "                        <th id=\"T_d8082bdc_4dd1_11ec_8a99_0242ac1c0002level0_row0\" class=\"row_heading level0 row0\" >(-1.0, 19.0]</th>\n",
              "                        <td id=\"T_d8082bdc_4dd1_11ec_8a99_0242ac1c0002row0_col0\" class=\"data row0 col0\" >164</td>\n",
              "                        <td id=\"T_d8082bdc_4dd1_11ec_8a99_0242ac1c0002row0_col1\" class=\"data row0 col1\" >19.258300</td>\n",
              "                        <td id=\"T_d8082bdc_4dd1_11ec_8a99_0242ac1c0002row0_col2\" class=\"data row0 col2\" >31.794741</td>\n",
              "            </tr>\n",
              "            <tr>\n",
              "                        <th id=\"T_d8082bdc_4dd1_11ec_8a99_0242ac1c0002level0_row1\" class=\"row_heading level0 row1\" >(19.0, 25.0]</th>\n",
              "                        <td id=\"T_d8082bdc_4dd1_11ec_8a99_0242ac1c0002row1_col0\" class=\"data row1 col0\" >137</td>\n",
              "                        <td id=\"T_d8082bdc_4dd1_11ec_8a99_0242ac1c0002row1_col1\" class=\"data row1 col1\" >9.225000</td>\n",
              "                        <td id=\"T_d8082bdc_4dd1_11ec_8a99_0242ac1c0002row1_col2\" class=\"data row1 col2\" >29.347809</td>\n",
              "            </tr>\n",
              "            <tr>\n",
              "                        <th id=\"T_d8082bdc_4dd1_11ec_8a99_0242ac1c0002level0_row2\" class=\"row_heading level0 row2\" >(25.0, 32.0]</th>\n",
              "                        <td id=\"T_d8082bdc_4dd1_11ec_8a99_0242ac1c0002row2_col0\" class=\"data row2 col0\" >127</td>\n",
              "                        <td id=\"T_d8082bdc_4dd1_11ec_8a99_0242ac1c0002row2_col1\" class=\"data row2 col1\" >13.000000</td>\n",
              "                        <td id=\"T_d8082bdc_4dd1_11ec_8a99_0242ac1c0002row2_col2\" class=\"data row2 col2\" >25.702458</td>\n",
              "            </tr>\n",
              "            <tr>\n",
              "                        <th id=\"T_d8082bdc_4dd1_11ec_8a99_0242ac1c0002level0_row3\" class=\"row_heading level0 row3\" >(32.0, 41.0]</th>\n",
              "                        <td id=\"T_d8082bdc_4dd1_11ec_8a99_0242ac1c0002row3_col0\" class=\"data row3 col0\" >144</td>\n",
              "                        <td id=\"T_d8082bdc_4dd1_11ec_8a99_0242ac1c0002row3_col1\" class=\"data row3 col1\" >19.856250</td>\n",
              "                        <td id=\"T_d8082bdc_4dd1_11ec_8a99_0242ac1c0002row3_col2\" class=\"data row3 col2\" >43.050865</td>\n",
              "            </tr>\n",
              "            <tr>\n",
              "                        <th id=\"T_d8082bdc_4dd1_11ec_8a99_0242ac1c0002level0_row4\" class=\"row_heading level0 row4\" >(41.0, 80.0]</th>\n",
              "                        <td id=\"T_d8082bdc_4dd1_11ec_8a99_0242ac1c0002row4_col0\" class=\"data row4 col0\" >142</td>\n",
              "                        <td id=\"T_d8082bdc_4dd1_11ec_8a99_0242ac1c0002row4_col1\" class=\"data row4 col1\" >26.550000</td>\n",
              "                        <td id=\"T_d8082bdc_4dd1_11ec_8a99_0242ac1c0002row4_col2\" class=\"data row4 col2\" >42.770132</td>\n",
              "            </tr>\n",
              "    </tbody></table>"
            ],
            "text/plain": [
              "<pandas.io.formats.style.Styler at 0x7fe9cc2b0510>"
            ]
          },
          "metadata": {},
          "execution_count": 89
        }
      ]
    },
    {
      "cell_type": "code",
      "metadata": {
        "id": "uMFvLxSpE8ev"
      },
      "source": [
        "# def rightValue(interval):\n",
        "#   return interval.right\n",
        "\n",
        "# data_age['CategoricalAge'] = data_age['CategoricalAge'].apply(rightValue)"
      ],
      "execution_count": 90,
      "outputs": []
    },
    {
      "cell_type": "code",
      "metadata": {
        "id": "4bsWBt0pm6_S"
      },
      "source": [
        "# from sklearn.preprocessing import LabelEncoder\n",
        "# encoder = LabelEncoder()\n",
        "\n",
        "# data_age['CategoricalAge']=encoder.fit_transform(data_age['CategoricalAge'])"
      ],
      "execution_count": 91,
      "outputs": []
    },
    {
      "cell_type": "code",
      "metadata": {
        "colab": {
          "base_uri": "https://localhost:8080/"
        },
        "id": "-nGA_hOnILY3",
        "outputId": "59fb347c-cead-4283-dc07-8ffb41e36c2a"
      },
      "source": [
        "data_age.Fare.describe()"
      ],
      "execution_count": 92,
      "outputs": [
        {
          "output_type": "execute_result",
          "data": {
            "text/plain": [
              "count    714.000000\n",
              "mean      34.694514\n",
              "std       52.918930\n",
              "min        0.000000\n",
              "25%        8.050000\n",
              "50%       15.741700\n",
              "75%       33.375000\n",
              "max      512.329200\n",
              "Name: Fare, dtype: float64"
            ]
          },
          "metadata": {},
          "execution_count": 92
        }
      ]
    },
    {
      "cell_type": "code",
      "metadata": {
        "colab": {
          "base_uri": "https://localhost:8080/",
          "height": 311
        },
        "id": "GbGIj_iHm680",
        "outputId": "8c7c2897-0998-4f14-f205-86e493da9f6f"
      },
      "source": [
        "sns.barplot(x='CategoricalAge',y='Fare',data = data_age)"
      ],
      "execution_count": 93,
      "outputs": [
        {
          "output_type": "execute_result",
          "data": {
            "text/plain": [
              "<matplotlib.axes._subplots.AxesSubplot at 0x7fe9cc2b6d90>"
            ]
          },
          "metadata": {},
          "execution_count": 93
        },
        {
          "output_type": "display_data",
          "data": {
            "image/png": "[encoded data removed]",
            "text/plain": [
              "<Figure size 432x288 with 1 Axes>"
            ]
          },
          "metadata": {}
        }
      ]
    },
    {
      "cell_type": "code",
      "metadata": {
        "colab": {
          "base_uri": "https://localhost:8080/",
          "height": 307
        },
        "id": "vhDMP51gNRQn",
        "outputId": "39b9364e-5f5c-4e85-fcc4-8093e72590d5"
      },
      "source": [
        "sns.barplot(x='CategoricalAge',y='Fare', hue = 'Sex',data = data_age)"
      ],
      "execution_count": 94,
      "outputs": [
        {
          "output_type": "execute_result",
          "data": {
            "text/plain": [
              "<matplotlib.axes._subplots.AxesSubplot at 0x7fe9cbd53250>"
            ]
          },
          "metadata": {},
          "execution_count": 94
        },
        {
          "output_type": "display_data",
          "data": {
            "image/png": "[encoded data removed]",
            "text/plain": [
              "<Figure size 432x288 with 1 Axes>"
            ]
          },
          "metadata": {}
        }
      ]
    },
    {
      "cell_type": "code",
      "metadata": {
        "colab": {
          "base_uri": "https://localhost:8080/",
          "height": 506
        },
        "id": "AnPbl3UyQK2m",
        "outputId": "79eea6a0-2384-44ac-a55b-ff993d90d040"
      },
      "source": [
        "plt.figure(figsize=(10,8))\n",
        "ax = sns.boxplot(x='CategoricalAge', y='Fare', data=data_age, color='#99c2a2')\n",
        "plt.show()"
      ],
      "execution_count": 95,
      "outputs": [
        {
          "output_type": "display_data",
          "data": {
            "image/png": "[encoded data removed]",
            "text/plain": [
              "<Figure size 720x576 with 1 Axes>"
            ]
          },
          "metadata": {}
        }
      ]
    },
    {
      "cell_type": "markdown",
      "metadata": {
        "id": "Fmz1iqLBSAHC"
      },
      "source": [
        "# 1. f_oneway из scipy.stats\n",
        "(проведем дисперисионный анализ 3-мя разными способами)"
      ]
    },
    {
      "cell_type": "code",
      "metadata": {
        "id": "uEKSWxndm66P"
      },
      "source": [
        "from scipy.stats import f_oneway\n",
        "\n",
        "d1 = data_age.query('CategoricalAge == (-1.0, 19.0)').Fare\n",
        "d2 = data_age.query('CategoricalAge == (19.0, 25.0)').Fare \n",
        "d3 = data_age.query('CategoricalAge == (25.0, 32.0)').Fare\n",
        "d4 = data_age.query('CategoricalAge == (32.0, 41.0)').Fare\n",
        "d5 = data_age.query('CategoricalAge == (41.0, 80.0)').Fare"
      ],
      "execution_count": 96,
      "outputs": []
    },
    {
      "cell_type": "code",
      "metadata": {
        "colab": {
          "base_uri": "https://localhost:8080/"
        },
        "id": "XLdgNrMdm62_",
        "outputId": "ab838bb0-c192-4dbf-9efd-42486a8f5380"
      },
      "source": [
        "f_oneway(d1,d2,d3,d4,d5)"
      ],
      "execution_count": 97,
      "outputs": [
        {
          "output_type": "execute_result",
          "data": {
            "text/plain": [
              "F_onewayResult(statistic=3.3304628322336827, pvalue=0.010058019175536387)"
            ]
          },
          "metadata": {},
          "execution_count": 97
        }
      ]
    },
    {
      "cell_type": "markdown",
      "metadata": {
        "id": "8Uk2Z3L9SLCU"
      },
      "source": [
        "# 2. ols из  statsmodels.formula.api"
      ]
    },
    {
      "cell_type": "code",
      "metadata": {
        "colab": {
          "base_uri": "https://localhost:8080/",
          "height": 111
        },
        "id": "AFC8G75CRzan",
        "outputId": "da27ff12-8ba5-425e-a6b3-9f9d9536d748"
      },
      "source": [
        "# get ANOVA table as R like output\n",
        "import statsmodels.api as sm\n",
        "from statsmodels.formula.api import ols\n",
        "\n",
        "# Ordinary Least Squares (OLS) model\n",
        "model = ols('Fare ~ C(CategoricalAge)', data=data_age).fit()\n",
        "anova_table = sm.stats.anova_lm(model, typ=2)\n",
        "anova_table\n",
        "# output (ANOVA F and p value)"
      ],
      "execution_count": 98,
      "outputs": [
        {
          "output_type": "execute_result",
          "data": {
            "text/html": [
              "<div>\n",
              "<style scoped>\n",
              "    .dataframe tbody tr th:only-of-type {\n",
              "        vertical-align: middle;\n",
              "    }\n",
              "\n",
              "    .dataframe tbody tr th {\n",
              "        vertical-align: top;\n",
              "    }\n",
              "\n",
              "    .dataframe thead th {\n",
              "        text-align: right;\n",
              "    }\n",
              "</style>\n",
              "<table border=\"1\" class=\"dataframe\">\n",
              "  <thead>\n",
              "    <tr style=\"text-align: right;\">\n",
              "      <th></th>\n",
              "      <th>sum_sq</th>\n",
              "      <th>df</th>\n",
              "      <th>F</th>\n",
              "      <th>PR(&gt;F)</th>\n",
              "    </tr>\n",
              "  </thead>\n",
              "  <tbody>\n",
              "    <tr>\n",
              "      <th>C(CategoricalAge)</th>\n",
              "      <td>3.488026e+04</td>\n",
              "      <td>4.0</td>\n",
              "      <td>3.151433</td>\n",
              "      <td>0.01392</td>\n",
              "    </tr>\n",
              "    <tr>\n",
              "      <th>Residual</th>\n",
              "      <td>1.961814e+06</td>\n",
              "      <td>709.0</td>\n",
              "      <td>NaN</td>\n",
              "      <td>NaN</td>\n",
              "    </tr>\n",
              "  </tbody>\n",
              "</table>\n",
              "</div>"
            ],
            "text/plain": [
              "                         sum_sq     df         F   PR(>F)\n",
              "C(CategoricalAge)  3.488026e+04    4.0  3.151433  0.01392\n",
              "Residual           1.961814e+06  709.0       NaN      NaN"
            ]
          },
          "metadata": {},
          "execution_count": 98
        }
      ]
    },
    {
      "cell_type": "markdown",
      "metadata": {
        "id": "E25SM5B3SUYW"
      },
      "source": [
        "# 3. anova_test из bioinfokit.analys.stat"
      ]
    },
    {
      "cell_type": "code",
      "metadata": {
        "colab": {
          "base_uri": "https://localhost:8080/"
        },
        "id": "4F4kkFiiPH0V",
        "outputId": "c69cad5c-1bde-4758-8189-e13596012308"
      },
      "source": [
        "!pip install bioinfokit\n",
        "from bioinfokit.analys import stat"
      ],
      "execution_count": 99,
      "outputs": [
        {
          "output_type": "stream",
          "name": "stdout",
          "text": [
            "Requirement already satisfied: bioinfokit in /usr/local/lib/python3.7/dist-packages (2.0.8)\n",
            "Requirement already satisfied: numpy in /usr/local/lib/python3.7/dist-packages (from bioinfokit) (1.19.5)\n",
            "Requirement already satisfied: pandas in /usr/local/lib/python3.7/dist-packages (from bioinfokit) (1.1.5)\n",
            "Requirement already satisfied: matplotlib-venn in /usr/local/lib/python3.7/dist-packages (from bioinfokit) (0.11.6)\n",
            "Requirement already satisfied: textwrap3 in /usr/local/lib/python3.7/dist-packages (from bioinfokit) (0.9.2)\n",
            "Requirement already satisfied: seaborn in /usr/local/lib/python3.7/dist-packages (from bioinfokit) (0.11.2)\n",
            "Requirement already satisfied: tabulate in /usr/local/lib/python3.7/dist-packages (from bioinfokit) (0.8.9)\n",
            "Requirement already satisfied: matplotlib in /usr/local/lib/python3.7/dist-packages (from bioinfokit) (3.2.2)\n",
            "Requirement already satisfied: scipy in /usr/local/lib/python3.7/dist-packages (from bioinfokit) (1.4.1)\n",
            "Requirement already satisfied: scikit-learn in /usr/local/lib/python3.7/dist-packages (from bioinfokit) (1.0.1)\n",
            "Requirement already satisfied: statsmodels in /usr/local/lib/python3.7/dist-packages (from bioinfokit) (0.10.2)\n",
            "Requirement already satisfied: adjustText in /usr/local/lib/python3.7/dist-packages (from bioinfokit) (0.7.3)\n",
            "Requirement already satisfied: cycler>=0.10 in /usr/local/lib/python3.7/dist-packages (from matplotlib->bioinfokit) (0.11.0)\n",
            "Requirement already satisfied: pyparsing!=2.0.4,!=2.1.2,!=2.1.6,>=2.0.1 in /usr/local/lib/python3.7/dist-packages (from matplotlib->bioinfokit) (3.0.6)\n",
            "Requirement already satisfied: python-dateutil>=2.1 in /usr/local/lib/python3.7/dist-packages (from matplotlib->bioinfokit) (2.8.2)\n",
            "Requirement already satisfied: kiwisolver>=1.0.1 in /usr/local/lib/python3.7/dist-packages (from matplotlib->bioinfokit) (1.3.2)\n",
            "Requirement already satisfied: six>=1.5 in /usr/local/lib/python3.7/dist-packages (from python-dateutil>=2.1->matplotlib->bioinfokit) (1.15.0)\n",
            "Requirement already satisfied: pytz>=2017.2 in /usr/local/lib/python3.7/dist-packages (from pandas->bioinfokit) (2018.9)\n",
            "Requirement already satisfied: threadpoolctl>=2.0.0 in /usr/local/lib/python3.7/dist-packages (from scikit-learn->bioinfokit) (3.0.0)\n",
            "Requirement already satisfied: joblib>=0.11 in /usr/local/lib/python3.7/dist-packages (from scikit-learn->bioinfokit) (1.1.0)\n",
            "Requirement already satisfied: patsy>=0.4.0 in /usr/local/lib/python3.7/dist-packages (from statsmodels->bioinfokit) (0.5.2)\n"
          ]
        }
      ]
    },
    {
      "cell_type": "code",
      "metadata": {
        "colab": {
          "base_uri": "https://localhost:8080/",
          "height": 111
        },
        "id": "trcfGYRaPsYz",
        "outputId": "0d006414-82df-4056-b8ee-d4baa1c78f4b"
      },
      "source": [
        "res = stat()\n",
        "res.anova_stat(df=data_age, res_var='Fare', xfac_var='CategoricalAge', anova_model='Fare ~ C(CategoricalAge)')\n",
        "res.anova_summary"
      ],
      "execution_count": 100,
      "outputs": [
        {
          "output_type": "execute_result",
          "data": {
            "text/html": [
              "<div>\n",
              "<style scoped>\n",
              "    .dataframe tbody tr th:only-of-type {\n",
              "        vertical-align: middle;\n",
              "    }\n",
              "\n",
              "    .dataframe tbody tr th {\n",
              "        vertical-align: top;\n",
              "    }\n",
              "\n",
              "    .dataframe thead th {\n",
              "        text-align: right;\n",
              "    }\n",
              "</style>\n",
              "<table border=\"1\" class=\"dataframe\">\n",
              "  <thead>\n",
              "    <tr style=\"text-align: right;\">\n",
              "      <th></th>\n",
              "      <th>df</th>\n",
              "      <th>sum_sq</th>\n",
              "      <th>mean_sq</th>\n",
              "      <th>F</th>\n",
              "      <th>PR(&gt;F)</th>\n",
              "    </tr>\n",
              "  </thead>\n",
              "  <tbody>\n",
              "    <tr>\n",
              "      <th>C(CategoricalAge)</th>\n",
              "      <td>4.0</td>\n",
              "      <td>3.488026e+04</td>\n",
              "      <td>8720.064727</td>\n",
              "      <td>3.151433</td>\n",
              "      <td>0.01392</td>\n",
              "    </tr>\n",
              "    <tr>\n",
              "      <th>Residual</th>\n",
              "      <td>709.0</td>\n",
              "      <td>1.961814e+06</td>\n",
              "      <td>2767.015911</td>\n",
              "      <td>NaN</td>\n",
              "      <td>NaN</td>\n",
              "    </tr>\n",
              "  </tbody>\n",
              "</table>\n",
              "</div>"
            ],
            "text/plain": [
              "                      df        sum_sq      mean_sq         F   PR(>F)\n",
              "C(CategoricalAge)    4.0  3.488026e+04  8720.064727  3.151433  0.01392\n",
              "Residual           709.0  1.961814e+06  2767.015911       NaN      NaN"
            ]
          },
          "metadata": {},
          "execution_count": 100
        }
      ]
    },
    {
      "cell_type": "markdown",
      "metadata": {
        "id": "jIEq0bISUbgQ"
      },
      "source": [
        "# 4. p-value < 0.05. \n",
        "Можно предложить, что стат. значимые различия между группами есть. Проведем post-hoc тест Тьюки, чтобы посмотреть между какими конкретными группами существуют значимые различия. Сделаем это 2 способами."
      ]
    },
    {
      "cell_type": "code",
      "metadata": {
        "id": "6G5034j1m6z3",
        "colab": {
          "base_uri": "https://localhost:8080/",
          "height": 359
        },
        "outputId": "9504eefa-a8e2-4a0b-dd4d-0eee185b1b6e"
      },
      "source": [
        "# perform multiple pairwise comparison (Tukey's HSD)\n",
        "# unequal sample size data, tukey_hsd uses Tukey-Kramer test\n",
        "res.tukey_hsd(df=data_age, res_var='Fare', xfac_var='CategoricalAge', anova_model='Fare ~ C(CategoricalAge)')\n",
        "res.tukey_summary"
      ],
      "execution_count": 101,
      "outputs": [
        {
          "output_type": "execute_result",
          "data": {
            "text/html": [
              "<div>\n",
              "<style scoped>\n",
              "    .dataframe tbody tr th:only-of-type {\n",
              "        vertical-align: middle;\n",
              "    }\n",
              "\n",
              "    .dataframe tbody tr th {\n",
              "        vertical-align: top;\n",
              "    }\n",
              "\n",
              "    .dataframe thead th {\n",
              "        text-align: right;\n",
              "    }\n",
              "</style>\n",
              "<table border=\"1\" class=\"dataframe\">\n",
              "  <thead>\n",
              "    <tr style=\"text-align: right;\">\n",
              "      <th></th>\n",
              "      <th>group1</th>\n",
              "      <th>group2</th>\n",
              "      <th>Diff</th>\n",
              "      <th>Lower</th>\n",
              "      <th>Upper</th>\n",
              "      <th>q-value</th>\n",
              "      <th>p-value</th>\n",
              "    </tr>\n",
              "  </thead>\n",
              "  <tbody>\n",
              "    <tr>\n",
              "      <th>0</th>\n",
              "      <td>(32.0, 41.0]</td>\n",
              "      <td>(41.0, 80.0]</td>\n",
              "      <td>22.852487</td>\n",
              "      <td>-17.934115</td>\n",
              "      <td>63.639089</td>\n",
              "      <td>2.183793</td>\n",
              "      <td>0.530500</td>\n",
              "    </tr>\n",
              "    <tr>\n",
              "      <th>1</th>\n",
              "      <td>(32.0, 41.0]</td>\n",
              "      <td>(-1.0, 19.0]</td>\n",
              "      <td>2.880504</td>\n",
              "      <td>-47.043698</td>\n",
              "      <td>52.804706</td>\n",
              "      <td>0.224881</td>\n",
              "      <td>0.900000</td>\n",
              "    </tr>\n",
              "    <tr>\n",
              "      <th>2</th>\n",
              "      <td>(32.0, 41.0]</td>\n",
              "      <td>(25.0, 32.0]</td>\n",
              "      <td>19.714992</td>\n",
              "      <td>-34.825660</td>\n",
              "      <td>74.255644</td>\n",
              "      <td>1.408873</td>\n",
              "      <td>0.839620</td>\n",
              "    </tr>\n",
              "    <tr>\n",
              "      <th>3</th>\n",
              "      <td>(32.0, 41.0]</td>\n",
              "      <td>(19.0, 25.0]</td>\n",
              "      <td>9.996410</td>\n",
              "      <td>-43.741999</td>\n",
              "      <td>63.734819</td>\n",
              "      <td>0.725028</td>\n",
              "      <td>0.900000</td>\n",
              "    </tr>\n",
              "    <tr>\n",
              "      <th>4</th>\n",
              "      <td>(41.0, 80.0]</td>\n",
              "      <td>(-1.0, 19.0]</td>\n",
              "      <td>25.732991</td>\n",
              "      <td>-21.197275</td>\n",
              "      <td>72.663257</td>\n",
              "      <td>2.137139</td>\n",
              "      <td>0.549112</td>\n",
              "    </tr>\n",
              "    <tr>\n",
              "      <th>5</th>\n",
              "      <td>(41.0, 80.0]</td>\n",
              "      <td>(25.0, 32.0]</td>\n",
              "      <td>3.137495</td>\n",
              "      <td>-48.676660</td>\n",
              "      <td>54.951650</td>\n",
              "      <td>0.236010</td>\n",
              "      <td>0.900000</td>\n",
              "    </tr>\n",
              "    <tr>\n",
              "      <th>6</th>\n",
              "      <td>(41.0, 80.0]</td>\n",
              "      <td>(19.0, 25.0]</td>\n",
              "      <td>32.848897</td>\n",
              "      <td>-18.120119</td>\n",
              "      <td>83.817912</td>\n",
              "      <td>2.511944</td>\n",
              "      <td>0.391980</td>\n",
              "    </tr>\n",
              "    <tr>\n",
              "      <th>7</th>\n",
              "      <td>(-1.0, 19.0]</td>\n",
              "      <td>(25.0, 32.0]</td>\n",
              "      <td>22.595496</td>\n",
              "      <td>-36.680010</td>\n",
              "      <td>81.871003</td>\n",
              "      <td>1.485737</td>\n",
              "      <td>0.808956</td>\n",
              "    </tr>\n",
              "    <tr>\n",
              "      <th>8</th>\n",
              "      <td>(-1.0, 19.0]</td>\n",
              "      <td>(19.0, 25.0]</td>\n",
              "      <td>7.115906</td>\n",
              "      <td>-51.422283</td>\n",
              "      <td>65.654094</td>\n",
              "      <td>0.473791</td>\n",
              "      <td>0.900000</td>\n",
              "    </tr>\n",
              "    <tr>\n",
              "      <th>9</th>\n",
              "      <td>(25.0, 32.0]</td>\n",
              "      <td>(19.0, 25.0]</td>\n",
              "      <td>29.711402</td>\n",
              "      <td>-32.810405</td>\n",
              "      <td>92.233209</td>\n",
              "      <td>1.852197</td>\n",
              "      <td>0.662776</td>\n",
              "    </tr>\n",
              "  </tbody>\n",
              "</table>\n",
              "</div>"
            ],
            "text/plain": [
              "         group1        group2       Diff  ...      Upper   q-value   p-value\n",
              "0  (32.0, 41.0]  (41.0, 80.0]  22.852487  ...  63.639089  2.183793  0.530500\n",
              "1  (32.0, 41.0]  (-1.0, 19.0]   2.880504  ...  52.804706  0.224881  0.900000\n",
              "2  (32.0, 41.0]  (25.0, 32.0]  19.714992  ...  74.255644  1.408873  0.839620\n",
              "3  (32.0, 41.0]  (19.0, 25.0]   9.996410  ...  63.734819  0.725028  0.900000\n",
              "4  (41.0, 80.0]  (-1.0, 19.0]  25.732991  ...  72.663257  2.137139  0.549112\n",
              "5  (41.0, 80.0]  (25.0, 32.0]   3.137495  ...  54.951650  0.236010  0.900000\n",
              "6  (41.0, 80.0]  (19.0, 25.0]  32.848897  ...  83.817912  2.511944  0.391980\n",
              "7  (-1.0, 19.0]  (25.0, 32.0]  22.595496  ...  81.871003  1.485737  0.808956\n",
              "8  (-1.0, 19.0]  (19.0, 25.0]   7.115906  ...  65.654094  0.473791  0.900000\n",
              "9  (25.0, 32.0]  (19.0, 25.0]  29.711402  ...  92.233209  1.852197  0.662776\n",
              "\n",
              "[10 rows x 7 columns]"
            ]
          },
          "metadata": {},
          "execution_count": 101
        }
      ]
    },
    {
      "cell_type": "code",
      "metadata": {
        "id": "lgZTxsq0m6xF",
        "colab": {
          "base_uri": "https://localhost:8080/"
        },
        "outputId": "c8c1b0cf-8dd2-4b48-db34-82e1b50ee3ed"
      },
      "source": [
        "from statsmodels.stats.multicomp import pairwise_tukeyhsd\n",
        "\n",
        "p1_tukey_test = pairwise_tukeyhsd(data_age.Fare,data_age.CategoricalAge)\n",
        "print(\"\\n\\n\" + str(p1_tukey_test._results_table))"
      ],
      "execution_count": 102,
      "outputs": [
        {
          "output_type": "stream",
          "name": "stdout",
          "text": [
            "\n",
            "\n",
            "       Multiple Comparison of Means - Tukey HSD, FWER=0.05       \n",
            "=================================================================\n",
            "   group1       group2    meandiff p-adj   lower    upper  reject\n",
            "-----------------------------------------------------------------\n",
            "(-1.0, 19.0] (19.0, 25.0]  -2.4469    0.9 -19.0977 14.2039  False\n",
            "(-1.0, 19.0] (25.0, 32.0]  -6.0923 0.8492 -23.0965 10.9119  False\n",
            "(-1.0, 19.0] (32.0, 41.0]  11.2561 0.3325  -5.1727 27.6849  False\n",
            "(-1.0, 19.0] (41.0, 80.0]  10.9754 0.3633  -5.5149 27.4657  False\n",
            "(19.0, 25.0] (25.0, 32.0]  -3.6454    0.9 -21.3658 14.0751  False\n",
            "(19.0, 25.0] (32.0, 41.0]  13.7031 0.1873   -3.466 30.8721  False\n",
            "(19.0, 25.0] (41.0, 80.0]  13.4223 0.2082  -3.8056 30.6502  False\n",
            "(25.0, 32.0] (32.0, 41.0]  17.3484 0.0536  -0.1636 34.8604  False\n",
            "(25.0, 32.0] (41.0, 80.0]  17.0677 0.0617   -0.502 34.6374  False\n",
            "(32.0, 41.0] (41.0, 80.0]  -0.2807    0.9 -17.2942 16.7327  False\n",
            "-----------------------------------------------------------------\n"
          ]
        }
      ]
    },
    {
      "cell_type": "markdown",
      "metadata": {
        "id": "1f7dbiMCVDpa"
      },
      "source": [
        "Как видно, стат. значимых различий между отдельными группами нет. Отвергаем гипотезу о существовании стат. значимых различий в цене билетов, купленных людьми разного возраста."
      ]
    }
  ]
}